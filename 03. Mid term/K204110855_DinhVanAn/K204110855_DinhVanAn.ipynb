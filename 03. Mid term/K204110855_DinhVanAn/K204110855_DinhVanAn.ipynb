{
 "cells": [
  {
   "attachments": {},
   "cell_type": "markdown",
   "metadata": {},
   "source": [
    "# **Import Modules n Data**"
   ]
  },
  {
   "attachments": {},
   "cell_type": "markdown",
   "metadata": {},
   "source": [
    "Module"
   ]
  },
  {
   "cell_type": "code",
   "execution_count": 1,
   "metadata": {},
   "outputs": [],
   "source": [
    "import pandas as pd\n",
    "import numpy as np\n",
    "import matplotlib.pyplot as plt\n",
    "import seaborn as sns"
   ]
  },
  {
   "attachments": {},
   "cell_type": "markdown",
   "metadata": {},
   "source": [
    "Data"
   ]
  },
  {
   "cell_type": "code",
   "execution_count": 2,
   "metadata": {},
   "outputs": [],
   "source": [
    "filePath = 'data.csv'"
   ]
  },
  {
   "cell_type": "code",
   "execution_count": 3,
   "metadata": {},
   "outputs": [
    {
     "name": "stdout",
     "output_type": "stream",
     "text": [
      "<class 'pandas.core.frame.DataFrame'>\n",
      "RangeIndex: 4999 entries, 0 to 4998\n",
      "Data columns (total 10 columns):\n",
      " #   Column                 Non-Null Count  Dtype  \n",
      "---  ------                 --------------  -----  \n",
      " 0   LoanNumber             4999 non-null   int64  \n",
      " 1   DateApproved           4999 non-null   object \n",
      " 2   BorrowerName           4998 non-null   object \n",
      " 3   Term                   4999 non-null   int64  \n",
      " 4   InitialApprovalAmount  4999 non-null   float64\n",
      " 5   F_Undisbursed          4999 non-null   int64  \n",
      " 6   Channel                4999 non-null   object \n",
      " 7   Region                 4999 non-null   object \n",
      " 8   TypeOfCall             1999 non-null   object \n",
      " 9   InterestPerYear        4999 non-null   float64\n",
      "dtypes: float64(2), int64(3), object(5)\n",
      "memory usage: 390.7+ KB\n"
     ]
    }
   ],
   "source": [
    "df_raw = pd.read_csv(filePath)\n",
    "df_raw.info()"
   ]
  },
  {
   "cell_type": "code",
   "execution_count": 6,
   "metadata": {},
   "outputs": [
    {
     "data": {
      "text/plain": [
       "LoanNumber                  0\n",
       "DateApproved                0\n",
       "BorrowerName                1\n",
       "Term                        0\n",
       "InitialApprovalAmount       0\n",
       "F_Undisbursed               0\n",
       "Channel                     0\n",
       "Region                      0\n",
       "TypeOfCall               3000\n",
       "InterestPerYear             0\n",
       "dtype: int64"
      ]
     },
     "execution_count": 6,
     "metadata": {},
     "output_type": "execute_result"
    }
   ],
   "source": [
    "#Missing value in dataset\n",
    "df_raw.isnull().sum()"
   ]
  },
  {
   "cell_type": "code",
   "execution_count": 18,
   "metadata": {},
   "outputs": [
    {
     "data": {
      "text/plain": [
       "count            1999\n",
       "unique              3\n",
       "top       NoBrandName\n",
       "freq             1929\n",
       "Name: TypeOfCall, dtype: object"
      ]
     },
     "execution_count": 18,
     "metadata": {},
     "output_type": "execute_result"
    }
   ],
   "source": [
    "df_raw['TypeOfCall'].describe()"
   ]
  },
  {
   "cell_type": "code",
   "execution_count": 16,
   "metadata": {},
   "outputs": [
    {
     "data": {
      "text/plain": [
       "TypeOfCall\n",
       "BrandName        51\n",
       "Brandname        19\n",
       "NoBrandName    1929\n",
       "Name: LoanNumber, dtype: int64"
      ]
     },
     "execution_count": 16,
     "metadata": {},
     "output_type": "execute_result"
    }
   ],
   "source": [
    "df_raw.groupby('TypeOfCall')['LoanNumber'].count()"
   ]
  },
  {
   "cell_type": "code",
   "execution_count": 7,
   "metadata": {},
   "outputs": [
    {
     "data": {
      "text/html": [
       "<div>\n",
       "<style scoped>\n",
       "    .dataframe tbody tr th:only-of-type {\n",
       "        vertical-align: middle;\n",
       "    }\n",
       "\n",
       "    .dataframe tbody tr th {\n",
       "        vertical-align: top;\n",
       "    }\n",
       "\n",
       "    .dataframe thead th {\n",
       "        text-align: right;\n",
       "    }\n",
       "</style>\n",
       "<table border=\"1\" class=\"dataframe\">\n",
       "  <thead>\n",
       "    <tr style=\"text-align: right;\">\n",
       "      <th></th>\n",
       "      <th>LoanNumber</th>\n",
       "      <th>DateApproved</th>\n",
       "      <th>BorrowerName</th>\n",
       "      <th>Term</th>\n",
       "      <th>InitialApprovalAmount</th>\n",
       "      <th>F_Undisbursed</th>\n",
       "      <th>Channel</th>\n",
       "      <th>Region</th>\n",
       "      <th>TypeOfCall</th>\n",
       "      <th>InterestPerYear</th>\n",
       "    </tr>\n",
       "  </thead>\n",
       "  <tbody>\n",
       "    <tr>\n",
       "      <th>0</th>\n",
       "      <td>5120868804</td>\n",
       "      <td>4/17/2021</td>\n",
       "      <td>HOPE COMMUNITY RESOURCES INC.</td>\n",
       "      <td>60</td>\n",
       "      <td>7223025.0</td>\n",
       "      <td>1</td>\n",
       "      <td>TLS</td>\n",
       "      <td>South</td>\n",
       "      <td>BrandName</td>\n",
       "      <td>0.3</td>\n",
       "    </tr>\n",
       "    <tr>\n",
       "      <th>1</th>\n",
       "      <td>1305708310</td>\n",
       "      <td>1/16/2021</td>\n",
       "      <td>FOUNTAINHEAD DEVELOPMENT INC</td>\n",
       "      <td>60</td>\n",
       "      <td>2000000.0</td>\n",
       "      <td>1</td>\n",
       "      <td>TLS</td>\n",
       "      <td>South</td>\n",
       "      <td>BrandName</td>\n",
       "      <td>0.3</td>\n",
       "    </tr>\n",
       "    <tr>\n",
       "      <th>2</th>\n",
       "      <td>1528398702</td>\n",
       "      <td>3/27/2021</td>\n",
       "      <td>NORTHERN ENERGY SERVICES LLC</td>\n",
       "      <td>60</td>\n",
       "      <td>2000000.0</td>\n",
       "      <td>0</td>\n",
       "      <td>TLS</td>\n",
       "      <td>South</td>\n",
       "      <td>BrandName</td>\n",
       "      <td>0.1</td>\n",
       "    </tr>\n",
       "    <tr>\n",
       "      <th>3</th>\n",
       "      <td>2524238501</td>\n",
       "      <td>2/20/2021</td>\n",
       "      <td>ALCAN ELECTRICAL AND ENGINEERING INC</td>\n",
       "      <td>60</td>\n",
       "      <td>2000000.0</td>\n",
       "      <td>0</td>\n",
       "      <td>TLS</td>\n",
       "      <td>South</td>\n",
       "      <td>BrandName</td>\n",
       "      <td>0.1</td>\n",
       "    </tr>\n",
       "    <tr>\n",
       "      <th>4</th>\n",
       "      <td>3041178300</td>\n",
       "      <td>1/21/2021</td>\n",
       "      <td>FAMILY CENTERED SERVICES OF ALASKA INC</td>\n",
       "      <td>60</td>\n",
       "      <td>2000000.0</td>\n",
       "      <td>0</td>\n",
       "      <td>TLS</td>\n",
       "      <td>South</td>\n",
       "      <td>BrandName</td>\n",
       "      <td>0.1</td>\n",
       "    </tr>\n",
       "  </tbody>\n",
       "</table>\n",
       "</div>"
      ],
      "text/plain": [
       "   LoanNumber DateApproved                            BorrowerName  Term  \\\n",
       "0  5120868804    4/17/2021           HOPE COMMUNITY RESOURCES INC.    60   \n",
       "1  1305708310    1/16/2021            FOUNTAINHEAD DEVELOPMENT INC    60   \n",
       "2  1528398702    3/27/2021            NORTHERN ENERGY SERVICES LLC    60   \n",
       "3  2524238501    2/20/2021    ALCAN ELECTRICAL AND ENGINEERING INC    60   \n",
       "4  3041178300    1/21/2021  FAMILY CENTERED SERVICES OF ALASKA INC    60   \n",
       "\n",
       "   InitialApprovalAmount  F_Undisbursed Channel Region TypeOfCall  \\\n",
       "0              7223025.0              1     TLS  South  BrandName   \n",
       "1              2000000.0              1     TLS  South  BrandName   \n",
       "2              2000000.0              0     TLS  South  BrandName   \n",
       "3              2000000.0              0     TLS  South  BrandName   \n",
       "4              2000000.0              0     TLS  South  BrandName   \n",
       "\n",
       "   InterestPerYear  \n",
       "0              0.3  \n",
       "1              0.3  \n",
       "2              0.1  \n",
       "3              0.1  \n",
       "4              0.1  "
      ]
     },
     "execution_count": 7,
     "metadata": {},
     "output_type": "execute_result"
    }
   ],
   "source": [
    "df_raw.head()"
   ]
  },
  {
   "cell_type": "code",
   "execution_count": 8,
   "metadata": {},
   "outputs": [
    {
     "data": {
      "text/html": [
       "<div>\n",
       "<style scoped>\n",
       "    .dataframe tbody tr th:only-of-type {\n",
       "        vertical-align: middle;\n",
       "    }\n",
       "\n",
       "    .dataframe tbody tr th {\n",
       "        vertical-align: top;\n",
       "    }\n",
       "\n",
       "    .dataframe thead th {\n",
       "        text-align: right;\n",
       "    }\n",
       "</style>\n",
       "<table border=\"1\" class=\"dataframe\">\n",
       "  <thead>\n",
       "    <tr style=\"text-align: right;\">\n",
       "      <th></th>\n",
       "      <th>LoanNumber</th>\n",
       "      <th>DateApproved</th>\n",
       "      <th>BorrowerName</th>\n",
       "      <th>Term</th>\n",
       "      <th>InitialApprovalAmount</th>\n",
       "      <th>F_Undisbursed</th>\n",
       "      <th>Channel</th>\n",
       "      <th>Region</th>\n",
       "      <th>TypeOfCall</th>\n",
       "      <th>InterestPerYear</th>\n",
       "    </tr>\n",
       "  </thead>\n",
       "  <tbody>\n",
       "    <tr>\n",
       "      <th>848</th>\n",
       "      <td>7594268606</td>\n",
       "      <td>3/24/2021</td>\n",
       "      <td>NaN</td>\n",
       "      <td>60</td>\n",
       "      <td>156767.42</td>\n",
       "      <td>0</td>\n",
       "      <td>TLS</td>\n",
       "      <td>South</td>\n",
       "      <td>NoBrandName</td>\n",
       "      <td>0.10</td>\n",
       "    </tr>\n",
       "    <tr>\n",
       "      <th>1999</th>\n",
       "      <td>6255888300</td>\n",
       "      <td>1/26/2021</td>\n",
       "      <td>SAND DOLLAR LIFESTYLES LLC</td>\n",
       "      <td>60</td>\n",
       "      <td>345566.10</td>\n",
       "      <td>0</td>\n",
       "      <td>Sales Operator</td>\n",
       "      <td>Central</td>\n",
       "      <td>NaN</td>\n",
       "      <td>0.30</td>\n",
       "    </tr>\n",
       "    <tr>\n",
       "      <th>2000</th>\n",
       "      <td>2197498304</td>\n",
       "      <td>1/20/2021</td>\n",
       "      <td>RETAIL STOREFRONT GROUP INC</td>\n",
       "      <td>60</td>\n",
       "      <td>345372.50</td>\n",
       "      <td>0</td>\n",
       "      <td>Sales Operator</td>\n",
       "      <td>Central</td>\n",
       "      <td>NaN</td>\n",
       "      <td>0.30</td>\n",
       "    </tr>\n",
       "    <tr>\n",
       "      <th>2001</th>\n",
       "      <td>1246228307</td>\n",
       "      <td>1/16/2021</td>\n",
       "      <td>ELECTRIC MACHINE CONTROL INC</td>\n",
       "      <td>60</td>\n",
       "      <td>345367.00</td>\n",
       "      <td>0</td>\n",
       "      <td>Sales Operator</td>\n",
       "      <td>Central</td>\n",
       "      <td>NaN</td>\n",
       "      <td>0.30</td>\n",
       "    </tr>\n",
       "    <tr>\n",
       "      <th>2002</th>\n",
       "      <td>4312778507</td>\n",
       "      <td>2/25/2021</td>\n",
       "      <td>CHAPMAN CANOPY INC</td>\n",
       "      <td>60</td>\n",
       "      <td>345160.00</td>\n",
       "      <td>0</td>\n",
       "      <td>Sales Operator</td>\n",
       "      <td>Central</td>\n",
       "      <td>NaN</td>\n",
       "      <td>0.30</td>\n",
       "    </tr>\n",
       "    <tr>\n",
       "      <th>...</th>\n",
       "      <td>...</td>\n",
       "      <td>...</td>\n",
       "      <td>...</td>\n",
       "      <td>...</td>\n",
       "      <td>...</td>\n",
       "      <td>...</td>\n",
       "      <td>...</td>\n",
       "      <td>...</td>\n",
       "      <td>...</td>\n",
       "      <td>...</td>\n",
       "    </tr>\n",
       "    <tr>\n",
       "      <th>4994</th>\n",
       "      <td>5049278702</td>\n",
       "      <td>4/2/2021</td>\n",
       "      <td>ARKANSAS TRUCK CENTER INC</td>\n",
       "      <td>60</td>\n",
       "      <td>193027.50</td>\n",
       "      <td>0</td>\n",
       "      <td>Web</td>\n",
       "      <td>North</td>\n",
       "      <td>NaN</td>\n",
       "      <td>0.05</td>\n",
       "    </tr>\n",
       "    <tr>\n",
       "      <th>4995</th>\n",
       "      <td>6298258310</td>\n",
       "      <td>1/26/2021</td>\n",
       "      <td>CARNEY BATES &amp; PULLIAM PLLC</td>\n",
       "      <td>60</td>\n",
       "      <td>192900.00</td>\n",
       "      <td>0</td>\n",
       "      <td>Web</td>\n",
       "      <td>North</td>\n",
       "      <td>NaN</td>\n",
       "      <td>0.05</td>\n",
       "    </tr>\n",
       "    <tr>\n",
       "      <th>4996</th>\n",
       "      <td>9257738309</td>\n",
       "      <td>1/30/2021</td>\n",
       "      <td>PATRICK AND ASHLEY FIELDS FAMILY DENTIST</td>\n",
       "      <td>60</td>\n",
       "      <td>192666.90</td>\n",
       "      <td>0</td>\n",
       "      <td>Web</td>\n",
       "      <td>North</td>\n",
       "      <td>NaN</td>\n",
       "      <td>0.05</td>\n",
       "    </tr>\n",
       "    <tr>\n",
       "      <th>4997</th>\n",
       "      <td>3522968302</td>\n",
       "      <td>1/22/2021</td>\n",
       "      <td>SLS TRUCKING INC.</td>\n",
       "      <td>60</td>\n",
       "      <td>192582.50</td>\n",
       "      <td>0</td>\n",
       "      <td>Web</td>\n",
       "      <td>North</td>\n",
       "      <td>NaN</td>\n",
       "      <td>0.05</td>\n",
       "    </tr>\n",
       "    <tr>\n",
       "      <th>4998</th>\n",
       "      <td>8159738300</td>\n",
       "      <td>1/29/2021</td>\n",
       "      <td>JAMES B PHILLIPS DDS MS PA</td>\n",
       "      <td>60</td>\n",
       "      <td>192500.00</td>\n",
       "      <td>0</td>\n",
       "      <td>Web</td>\n",
       "      <td>North</td>\n",
       "      <td>NaN</td>\n",
       "      <td>0.05</td>\n",
       "    </tr>\n",
       "  </tbody>\n",
       "</table>\n",
       "<p>3001 rows × 10 columns</p>\n",
       "</div>"
      ],
      "text/plain": [
       "      LoanNumber DateApproved                              BorrowerName  Term  \\\n",
       "848   7594268606    3/24/2021                                       NaN    60   \n",
       "1999  6255888300    1/26/2021                SAND DOLLAR LIFESTYLES LLC    60   \n",
       "2000  2197498304    1/20/2021               RETAIL STOREFRONT GROUP INC    60   \n",
       "2001  1246228307    1/16/2021              ELECTRIC MACHINE CONTROL INC    60   \n",
       "2002  4312778507    2/25/2021                        CHAPMAN CANOPY INC    60   \n",
       "...          ...          ...                                       ...   ...   \n",
       "4994  5049278702     4/2/2021                 ARKANSAS TRUCK CENTER INC    60   \n",
       "4995  6298258310    1/26/2021               CARNEY BATES & PULLIAM PLLC    60   \n",
       "4996  9257738309    1/30/2021  PATRICK AND ASHLEY FIELDS FAMILY DENTIST    60   \n",
       "4997  3522968302    1/22/2021                         SLS TRUCKING INC.    60   \n",
       "4998  8159738300    1/29/2021                JAMES B PHILLIPS DDS MS PA    60   \n",
       "\n",
       "      InitialApprovalAmount  F_Undisbursed         Channel   Region  \\\n",
       "848               156767.42              0             TLS    South   \n",
       "1999              345566.10              0  Sales Operator  Central   \n",
       "2000              345372.50              0  Sales Operator  Central   \n",
       "2001              345367.00              0  Sales Operator  Central   \n",
       "2002              345160.00              0  Sales Operator  Central   \n",
       "...                     ...            ...             ...      ...   \n",
       "4994              193027.50              0             Web    North   \n",
       "4995              192900.00              0             Web    North   \n",
       "4996              192666.90              0             Web    North   \n",
       "4997              192582.50              0             Web    North   \n",
       "4998              192500.00              0             Web    North   \n",
       "\n",
       "       TypeOfCall  InterestPerYear  \n",
       "848   NoBrandName             0.10  \n",
       "1999          NaN             0.30  \n",
       "2000          NaN             0.30  \n",
       "2001          NaN             0.30  \n",
       "2002          NaN             0.30  \n",
       "...           ...              ...  \n",
       "4994          NaN             0.05  \n",
       "4995          NaN             0.05  \n",
       "4996          NaN             0.05  \n",
       "4997          NaN             0.05  \n",
       "4998          NaN             0.05  \n",
       "\n",
       "[3001 rows x 10 columns]"
      ]
     },
     "execution_count": 8,
     "metadata": {},
     "output_type": "execute_result"
    }
   ],
   "source": [
    "df_raw[df_raw.isnull().any(axis=1)]"
   ]
  },
  {
   "attachments": {},
   "cell_type": "markdown",
   "metadata": {},
   "source": [
    "# **Question 1**"
   ]
  },
  {
   "cell_type": "code",
   "execution_count": 19,
   "metadata": {},
   "outputs": [
    {
     "data": {
      "text/html": [
       "<div>\n",
       "<style scoped>\n",
       "    .dataframe tbody tr th:only-of-type {\n",
       "        vertical-align: middle;\n",
       "    }\n",
       "\n",
       "    .dataframe tbody tr th {\n",
       "        vertical-align: top;\n",
       "    }\n",
       "\n",
       "    .dataframe thead th {\n",
       "        text-align: right;\n",
       "    }\n",
       "</style>\n",
       "<table border=\"1\" class=\"dataframe\">\n",
       "  <thead>\n",
       "    <tr style=\"text-align: right;\">\n",
       "      <th></th>\n",
       "      <th>LoanNumber</th>\n",
       "      <th>DateApproved</th>\n",
       "      <th>BorrowerName</th>\n",
       "      <th>Term</th>\n",
       "      <th>InitialApprovalAmount</th>\n",
       "      <th>F_Undisbursed</th>\n",
       "      <th>Channel</th>\n",
       "      <th>Region</th>\n",
       "      <th>TypeOfCall</th>\n",
       "      <th>InterestPerYear</th>\n",
       "    </tr>\n",
       "  </thead>\n",
       "  <tbody>\n",
       "    <tr>\n",
       "      <th>0</th>\n",
       "      <td>5120868804</td>\n",
       "      <td>4/17/2021</td>\n",
       "      <td>HOPE COMMUNITY RESOURCES INC.</td>\n",
       "      <td>60</td>\n",
       "      <td>7223025.0</td>\n",
       "      <td>1</td>\n",
       "      <td>TLS</td>\n",
       "      <td>South</td>\n",
       "      <td>BrandName</td>\n",
       "      <td>0.3</td>\n",
       "    </tr>\n",
       "    <tr>\n",
       "      <th>1</th>\n",
       "      <td>1305708310</td>\n",
       "      <td>1/16/2021</td>\n",
       "      <td>FOUNTAINHEAD DEVELOPMENT INC</td>\n",
       "      <td>60</td>\n",
       "      <td>2000000.0</td>\n",
       "      <td>1</td>\n",
       "      <td>TLS</td>\n",
       "      <td>South</td>\n",
       "      <td>BrandName</td>\n",
       "      <td>0.3</td>\n",
       "    </tr>\n",
       "    <tr>\n",
       "      <th>2</th>\n",
       "      <td>1528398702</td>\n",
       "      <td>3/27/2021</td>\n",
       "      <td>NORTHERN ENERGY SERVICES LLC</td>\n",
       "      <td>60</td>\n",
       "      <td>2000000.0</td>\n",
       "      <td>0</td>\n",
       "      <td>TLS</td>\n",
       "      <td>South</td>\n",
       "      <td>BrandName</td>\n",
       "      <td>0.1</td>\n",
       "    </tr>\n",
       "    <tr>\n",
       "      <th>3</th>\n",
       "      <td>2524238501</td>\n",
       "      <td>2/20/2021</td>\n",
       "      <td>ALCAN ELECTRICAL AND ENGINEERING INC</td>\n",
       "      <td>60</td>\n",
       "      <td>2000000.0</td>\n",
       "      <td>0</td>\n",
       "      <td>TLS</td>\n",
       "      <td>South</td>\n",
       "      <td>BrandName</td>\n",
       "      <td>0.1</td>\n",
       "    </tr>\n",
       "    <tr>\n",
       "      <th>4</th>\n",
       "      <td>3041178300</td>\n",
       "      <td>1/21/2021</td>\n",
       "      <td>FAMILY CENTERED SERVICES OF ALASKA INC</td>\n",
       "      <td>60</td>\n",
       "      <td>2000000.0</td>\n",
       "      <td>0</td>\n",
       "      <td>TLS</td>\n",
       "      <td>South</td>\n",
       "      <td>BrandName</td>\n",
       "      <td>0.1</td>\n",
       "    </tr>\n",
       "  </tbody>\n",
       "</table>\n",
       "</div>"
      ],
      "text/plain": [
       "   LoanNumber DateApproved                            BorrowerName  Term  \\\n",
       "0  5120868804    4/17/2021           HOPE COMMUNITY RESOURCES INC.    60   \n",
       "1  1305708310    1/16/2021            FOUNTAINHEAD DEVELOPMENT INC    60   \n",
       "2  1528398702    3/27/2021            NORTHERN ENERGY SERVICES LLC    60   \n",
       "3  2524238501    2/20/2021    ALCAN ELECTRICAL AND ENGINEERING INC    60   \n",
       "4  3041178300    1/21/2021  FAMILY CENTERED SERVICES OF ALASKA INC    60   \n",
       "\n",
       "   InitialApprovalAmount  F_Undisbursed Channel Region TypeOfCall  \\\n",
       "0              7223025.0              1     TLS  South  BrandName   \n",
       "1              2000000.0              1     TLS  South  BrandName   \n",
       "2              2000000.0              0     TLS  South  BrandName   \n",
       "3              2000000.0              0     TLS  South  BrandName   \n",
       "4              2000000.0              0     TLS  South  BrandName   \n",
       "\n",
       "   InterestPerYear  \n",
       "0              0.3  \n",
       "1              0.3  \n",
       "2              0.1  \n",
       "3              0.1  \n",
       "4              0.1  "
      ]
     },
     "execution_count": 19,
     "metadata": {},
     "output_type": "execute_result"
    }
   ],
   "source": [
    "df = df_raw.copy()\n",
    "df.head()"
   ]
  },
  {
   "cell_type": "code",
   "execution_count": 20,
   "metadata": {},
   "outputs": [
    {
     "name": "stdout",
     "output_type": "stream",
     "text": [
      "Total Initial Approval Amount: $2,158,524,977\n"
     ]
    }
   ],
   "source": [
    "#Total Initial Approval Amount\n",
    "totalInitialApprovalAmount = df['InitialApprovalAmount'].sum()\n",
    "print('Total Initial Approval Amount: ${:,.0f}'.format(totalInitialApprovalAmount))"
   ]
  },
  {
   "cell_type": "code",
   "execution_count": 21,
   "metadata": {},
   "outputs": [
    {
     "name": "stdout",
     "output_type": "stream",
     "text": [
      "Number of loan contracts: 4,999 contracts\n"
     ]
    }
   ],
   "source": [
    "#Number of loan contracts\n",
    "numberOfLoanContracts = df['LoanNumber'].count()\n",
    "print('Number of loan contracts: {:,} contracts'.format(numberOfLoanContracts))"
   ]
  },
  {
   "cell_type": "code",
   "execution_count": 24,
   "metadata": {},
   "outputs": [
    {
     "name": "stdout",
     "output_type": "stream",
     "text": [
      "Total Disbursed Amount: $1,930,881,375\n"
     ]
    }
   ],
   "source": [
    "#Total Disbursed Amount\n",
    "totalDisbursedAmount = df[df['F_Undisbursed']==0]['InitialApprovalAmount'].sum()\n",
    "print('Total Disbursed Amount: ${:,.0f}'.format(totalDisbursedAmount))"
   ]
  },
  {
   "cell_type": "code",
   "execution_count": 25,
   "metadata": {},
   "outputs": [
    {
     "data": {
      "text/html": [
       "<div>\n",
       "<style scoped>\n",
       "    .dataframe tbody tr th:only-of-type {\n",
       "        vertical-align: middle;\n",
       "    }\n",
       "\n",
       "    .dataframe tbody tr th {\n",
       "        vertical-align: top;\n",
       "    }\n",
       "\n",
       "    .dataframe thead th {\n",
       "        text-align: right;\n",
       "    }\n",
       "</style>\n",
       "<table border=\"1\" class=\"dataframe\">\n",
       "  <thead>\n",
       "    <tr style=\"text-align: right;\">\n",
       "      <th></th>\n",
       "      <th>F_Undisbursed</th>\n",
       "      <th>InitialApprovalAmount</th>\n",
       "    </tr>\n",
       "  </thead>\n",
       "  <tbody>\n",
       "    <tr>\n",
       "      <th>0</th>\n",
       "      <td>0</td>\n",
       "      <td>1.930881e+09</td>\n",
       "    </tr>\n",
       "    <tr>\n",
       "      <th>1</th>\n",
       "      <td>1</td>\n",
       "      <td>2.276436e+08</td>\n",
       "    </tr>\n",
       "  </tbody>\n",
       "</table>\n",
       "</div>"
      ],
      "text/plain": [
       "   F_Undisbursed  InitialApprovalAmount\n",
       "0              0           1.930881e+09\n",
       "1              1           2.276436e+08"
      ]
     },
     "execution_count": 25,
     "metadata": {},
     "output_type": "execute_result"
    }
   ],
   "source": [
    "#Total Disbursed Amount - double check\n",
    "df_Disbursed = df.groupby('F_Undisbursed')['InitialApprovalAmount'].sum().reset_index()\n",
    "df_Disbursed"
   ]
  },
  {
   "cell_type": "code",
   "execution_count": 26,
   "metadata": {},
   "outputs": [
    {
     "name": "stdout",
     "output_type": "stream",
     "text": [
      "Average Initial Amount per Loan Contract: $431,791\n"
     ]
    }
   ],
   "source": [
    "#Average Initial Amount per Loan Contract\n",
    "averageInitialAmountPerLoanContract = df['InitialApprovalAmount'].mean()\n",
    "print('Average Initial Amount per Loan Contract: ${:,.0f}'.format(averageInitialAmountPerLoanContract))"
   ]
  },
  {
   "cell_type": "code",
   "execution_count": 41,
   "metadata": {},
   "outputs": [
    {
     "name": "stdout",
     "output_type": "stream",
     "text": [
      "Average Interest Per Year of Loan Contract: 14.49%\n"
     ]
    }
   ],
   "source": [
    "#Average Interest Per Year of Loan Contract\n",
    "totalInterestPerYear = df['InterestPerYear'] * df['InitialApprovalAmount']\n",
    "averageInterestPerYear = totalInterestPerYear.sum() / df['InitialApprovalAmount'].sum()\n",
    "print('Average Interest Per Year of Loan Contract: {:,.2f}%'.format(averageInterestPerYear*100))"
   ]
  },
  {
   "cell_type": "code",
   "execution_count": 29,
   "metadata": {},
   "outputs": [
    {
     "name": "stdout",
     "output_type": "stream",
     "text": [
      "Percent Disbursed Loan: 89.45%\n"
     ]
    }
   ],
   "source": [
    "# % Disbursed Loan = Total Disbursed Amount / Total Initial Approval Amount\n",
    "percentDisbursedLoan = totalDisbursedAmount / totalInitialApprovalAmount\n",
    "print('Percent Disbursed Loan: {:,.2f}%'.format(percentDisbursedLoan*100))"
   ]
  },
  {
   "attachments": {},
   "cell_type": "markdown",
   "metadata": {},
   "source": [
    "# **Question 2**"
   ]
  },
  {
   "cell_type": "code",
   "execution_count": 30,
   "metadata": {},
   "outputs": [
    {
     "data": {
      "text/html": [
       "<div>\n",
       "<style scoped>\n",
       "    .dataframe tbody tr th:only-of-type {\n",
       "        vertical-align: middle;\n",
       "    }\n",
       "\n",
       "    .dataframe tbody tr th {\n",
       "        vertical-align: top;\n",
       "    }\n",
       "\n",
       "    .dataframe thead th {\n",
       "        text-align: right;\n",
       "    }\n",
       "</style>\n",
       "<table border=\"1\" class=\"dataframe\">\n",
       "  <thead>\n",
       "    <tr style=\"text-align: right;\">\n",
       "      <th></th>\n",
       "      <th>Region</th>\n",
       "      <th>LoanNumber</th>\n",
       "    </tr>\n",
       "  </thead>\n",
       "  <tbody>\n",
       "    <tr>\n",
       "      <th>0</th>\n",
       "      <td>Central</td>\n",
       "      <td>1603</td>\n",
       "    </tr>\n",
       "    <tr>\n",
       "      <th>1</th>\n",
       "      <td>North</td>\n",
       "      <td>1662</td>\n",
       "    </tr>\n",
       "    <tr>\n",
       "      <th>2</th>\n",
       "      <td>South</td>\n",
       "      <td>1734</td>\n",
       "    </tr>\n",
       "  </tbody>\n",
       "</table>\n",
       "</div>"
      ],
      "text/plain": [
       "    Region  LoanNumber\n",
       "0  Central        1603\n",
       "1    North        1662\n",
       "2    South        1734"
      ]
     },
     "execution_count": 30,
     "metadata": {},
     "output_type": "execute_result"
    }
   ],
   "source": [
    "#Visualize Number of loan contracts by Region\n",
    "df_numberContracts = df.groupby('Region')['LoanNumber'].count().reset_index()\n",
    "df_numberContracts"
   ]
  },
  {
   "cell_type": "code",
   "execution_count": 31,
   "metadata": {},
   "outputs": [
    {
     "data": {
      "image/png": "[encoded data removed]",
      "text/plain": [
       "<Figure size 720x360 with 1 Axes>"
      ]
     },
     "metadata": {
      "needs_background": "light"
     },
     "output_type": "display_data"
    }
   ],
   "source": [
    "plt.figure(figsize=(10,5))\n",
    "sns.barplot(x='Region', y='LoanNumber', data=df_numberContracts)\n",
    "plt.title('Number of loan contracts by region')\n",
    "plt.show()"
   ]
  },
  {
   "cell_type": "code",
   "execution_count": 32,
   "metadata": {},
   "outputs": [
    {
     "data": {
      "text/html": [
       "<div>\n",
       "<style scoped>\n",
       "    .dataframe tbody tr th:only-of-type {\n",
       "        vertical-align: middle;\n",
       "    }\n",
       "\n",
       "    .dataframe tbody tr th {\n",
       "        vertical-align: top;\n",
       "    }\n",
       "\n",
       "    .dataframe thead th {\n",
       "        text-align: right;\n",
       "    }\n",
       "</style>\n",
       "<table border=\"1\" class=\"dataframe\">\n",
       "  <thead>\n",
       "    <tr style=\"text-align: right;\">\n",
       "      <th></th>\n",
       "      <th>Region</th>\n",
       "      <th>InitialApprovalAmount</th>\n",
       "    </tr>\n",
       "  </thead>\n",
       "  <tbody>\n",
       "    <tr>\n",
       "      <th>0</th>\n",
       "      <td>Central</td>\n",
       "      <td>2.600722e+08</td>\n",
       "    </tr>\n",
       "    <tr>\n",
       "      <th>1</th>\n",
       "      <td>North</td>\n",
       "      <td>5.906408e+08</td>\n",
       "    </tr>\n",
       "    <tr>\n",
       "      <th>2</th>\n",
       "      <td>South</td>\n",
       "      <td>1.080168e+09</td>\n",
       "    </tr>\n",
       "  </tbody>\n",
       "</table>\n",
       "</div>"
      ],
      "text/plain": [
       "    Region  InitialApprovalAmount\n",
       "0  Central           2.600722e+08\n",
       "1    North           5.906408e+08\n",
       "2    South           1.080168e+09"
      ]
     },
     "execution_count": 32,
     "metadata": {},
     "output_type": "execute_result"
    }
   ],
   "source": [
    "# Visualize Total Disbursed Amount by Region\n",
    "df_totalDisbursedAmount = df[df['F_Undisbursed']==0].groupby('Region')['InitialApprovalAmount'].sum().reset_index()\n",
    "df_totalDisbursedAmount"
   ]
  },
  {
   "cell_type": "code",
   "execution_count": 34,
   "metadata": {},
   "outputs": [
    {
     "data": {
      "image/png": "[encoded data removed]",
      "text/plain": [
       "<Figure size 720x360 with 1 Axes>"
      ]
     },
     "metadata": {
      "needs_background": "light"
     },
     "output_type": "display_data"
    }
   ],
   "source": [
    "plt.figure(figsize=(10,5))\n",
    "sns.barplot(x='Region', y='InitialApprovalAmount', data=df_totalDisbursedAmount)\n",
    "plt.title('Total Disbursed Amount by region')\n",
    "plt.xlabel('Region')\n",
    "plt.ylabel('Total Disbursed Amount')\n",
    "plt.show()"
   ]
  },
  {
   "cell_type": "code",
   "execution_count": 35,
   "metadata": {},
   "outputs": [
    {
     "data": {
      "text/html": [
       "<div>\n",
       "<style scoped>\n",
       "    .dataframe tbody tr th:only-of-type {\n",
       "        vertical-align: middle;\n",
       "    }\n",
       "\n",
       "    .dataframe tbody tr th {\n",
       "        vertical-align: top;\n",
       "    }\n",
       "\n",
       "    .dataframe thead th {\n",
       "        text-align: right;\n",
       "    }\n",
       "</style>\n",
       "<table border=\"1\" class=\"dataframe\">\n",
       "  <thead>\n",
       "    <tr style=\"text-align: right;\">\n",
       "      <th></th>\n",
       "      <th>Region</th>\n",
       "      <th>InterestPerYear</th>\n",
       "    </tr>\n",
       "  </thead>\n",
       "  <tbody>\n",
       "    <tr>\n",
       "      <th>0</th>\n",
       "      <td>Central</td>\n",
       "      <td>0.186993</td>\n",
       "    </tr>\n",
       "    <tr>\n",
       "      <th>1</th>\n",
       "      <td>North</td>\n",
       "      <td>0.069826</td>\n",
       "    </tr>\n",
       "    <tr>\n",
       "      <th>2</th>\n",
       "      <td>South</td>\n",
       "      <td>0.166724</td>\n",
       "    </tr>\n",
       "  </tbody>\n",
       "</table>\n",
       "</div>"
      ],
      "text/plain": [
       "    Region  InterestPerYear\n",
       "0  Central         0.186993\n",
       "1    North         0.069826\n",
       "2    South         0.166724"
      ]
     },
     "execution_count": 35,
     "metadata": {},
     "output_type": "execute_result"
    }
   ],
   "source": [
    "# Visualize Average interest by Region\n",
    "df_averageInterest = df.groupby('Region')['InterestPerYear'].mean().reset_index()\n",
    "df_averageInterest"
   ]
  },
  {
   "cell_type": "code",
   "execution_count": 37,
   "metadata": {},
   "outputs": [
    {
     "data": {
      "text/html": [
       "<div>\n",
       "<style scoped>\n",
       "    .dataframe tbody tr th:only-of-type {\n",
       "        vertical-align: middle;\n",
       "    }\n",
       "\n",
       "    .dataframe tbody tr th {\n",
       "        vertical-align: top;\n",
       "    }\n",
       "\n",
       "    .dataframe thead th {\n",
       "        text-align: right;\n",
       "    }\n",
       "</style>\n",
       "<table border=\"1\" class=\"dataframe\">\n",
       "  <thead>\n",
       "    <tr style=\"text-align: right;\">\n",
       "      <th></th>\n",
       "      <th>Region</th>\n",
       "      <th>InterestPerYear</th>\n",
       "    </tr>\n",
       "  </thead>\n",
       "  <tbody>\n",
       "    <tr>\n",
       "      <th>0</th>\n",
       "      <td>Central</td>\n",
       "      <td>18.699314</td>\n",
       "    </tr>\n",
       "    <tr>\n",
       "      <th>1</th>\n",
       "      <td>North</td>\n",
       "      <td>6.982551</td>\n",
       "    </tr>\n",
       "    <tr>\n",
       "      <th>2</th>\n",
       "      <td>South</td>\n",
       "      <td>16.672434</td>\n",
       "    </tr>\n",
       "  </tbody>\n",
       "</table>\n",
       "</div>"
      ],
      "text/plain": [
       "    Region  InterestPerYear\n",
       "0  Central        18.699314\n",
       "1    North         6.982551\n",
       "2    South        16.672434"
      ]
     },
     "execution_count": 37,
     "metadata": {},
     "output_type": "execute_result"
    }
   ],
   "source": [
    "df_averageInterest['InterestPerYear'] = df_averageInterest['InterestPerYear'] * 100\n",
    "df_averageInterest"
   ]
  },
  {
   "cell_type": "code",
   "execution_count": 38,
   "metadata": {},
   "outputs": [
    {
     "data": {
      "image/png": "[encoded data removed]",
      "text/plain": [
       "<Figure size 720x360 with 1 Axes>"
      ]
     },
     "metadata": {
      "needs_background": "light"
     },
     "output_type": "display_data"
    }
   ],
   "source": [
    "plt.figure(figsize=(10,5))\n",
    "sns.barplot(x='Region', y='InterestPerYear', data=df_averageInterest)\n",
    "plt.title('Average interest by region')\n",
    "plt.xlabel('Region')\n",
    "plt.ylabel('Average interest (%)')\n",
    "plt.show()"
   ]
  },
  {
   "attachments": {},
   "cell_type": "markdown",
   "metadata": {},
   "source": [
    "# **Question 3**"
   ]
  },
  {
   "cell_type": "code",
   "execution_count": 54,
   "metadata": {},
   "outputs": [
    {
     "data": {
      "text/html": [
       "<div>\n",
       "<style scoped>\n",
       "    .dataframe tbody tr th:only-of-type {\n",
       "        vertical-align: middle;\n",
       "    }\n",
       "\n",
       "    .dataframe tbody tr th {\n",
       "        vertical-align: top;\n",
       "    }\n",
       "\n",
       "    .dataframe thead th {\n",
       "        text-align: right;\n",
       "    }\n",
       "</style>\n",
       "<table border=\"1\" class=\"dataframe\">\n",
       "  <thead>\n",
       "    <tr style=\"text-align: right;\">\n",
       "      <th></th>\n",
       "      <th>LoanNumber</th>\n",
       "      <th>DateApproved</th>\n",
       "      <th>BorrowerName</th>\n",
       "      <th>Term</th>\n",
       "      <th>InitialApprovalAmount</th>\n",
       "      <th>F_Undisbursed</th>\n",
       "      <th>Channel</th>\n",
       "      <th>Region</th>\n",
       "      <th>TypeOfCall</th>\n",
       "      <th>InterestPerYear</th>\n",
       "    </tr>\n",
       "  </thead>\n",
       "  <tbody>\n",
       "    <tr>\n",
       "      <th>0</th>\n",
       "      <td>5120868804</td>\n",
       "      <td>4/17/2021</td>\n",
       "      <td>HOPE COMMUNITY RESOURCES INC.</td>\n",
       "      <td>60</td>\n",
       "      <td>7223025.0</td>\n",
       "      <td>1</td>\n",
       "      <td>TLS</td>\n",
       "      <td>South</td>\n",
       "      <td>BrandName</td>\n",
       "      <td>0.3</td>\n",
       "    </tr>\n",
       "    <tr>\n",
       "      <th>1</th>\n",
       "      <td>1305708310</td>\n",
       "      <td>1/16/2021</td>\n",
       "      <td>FOUNTAINHEAD DEVELOPMENT INC</td>\n",
       "      <td>60</td>\n",
       "      <td>2000000.0</td>\n",
       "      <td>1</td>\n",
       "      <td>TLS</td>\n",
       "      <td>South</td>\n",
       "      <td>BrandName</td>\n",
       "      <td>0.3</td>\n",
       "    </tr>\n",
       "    <tr>\n",
       "      <th>2</th>\n",
       "      <td>1528398702</td>\n",
       "      <td>3/27/2021</td>\n",
       "      <td>NORTHERN ENERGY SERVICES LLC</td>\n",
       "      <td>60</td>\n",
       "      <td>2000000.0</td>\n",
       "      <td>0</td>\n",
       "      <td>TLS</td>\n",
       "      <td>South</td>\n",
       "      <td>BrandName</td>\n",
       "      <td>0.1</td>\n",
       "    </tr>\n",
       "    <tr>\n",
       "      <th>3</th>\n",
       "      <td>2524238501</td>\n",
       "      <td>2/20/2021</td>\n",
       "      <td>ALCAN ELECTRICAL AND ENGINEERING INC</td>\n",
       "      <td>60</td>\n",
       "      <td>2000000.0</td>\n",
       "      <td>0</td>\n",
       "      <td>TLS</td>\n",
       "      <td>South</td>\n",
       "      <td>BrandName</td>\n",
       "      <td>0.1</td>\n",
       "    </tr>\n",
       "    <tr>\n",
       "      <th>4</th>\n",
       "      <td>3041178300</td>\n",
       "      <td>1/21/2021</td>\n",
       "      <td>FAMILY CENTERED SERVICES OF ALASKA INC</td>\n",
       "      <td>60</td>\n",
       "      <td>2000000.0</td>\n",
       "      <td>0</td>\n",
       "      <td>TLS</td>\n",
       "      <td>South</td>\n",
       "      <td>BrandName</td>\n",
       "      <td>0.1</td>\n",
       "    </tr>\n",
       "  </tbody>\n",
       "</table>\n",
       "</div>"
      ],
      "text/plain": [
       "   LoanNumber DateApproved                            BorrowerName  Term  \\\n",
       "0  5120868804    4/17/2021           HOPE COMMUNITY RESOURCES INC.    60   \n",
       "1  1305708310    1/16/2021            FOUNTAINHEAD DEVELOPMENT INC    60   \n",
       "2  1528398702    3/27/2021            NORTHERN ENERGY SERVICES LLC    60   \n",
       "3  2524238501    2/20/2021    ALCAN ELECTRICAL AND ENGINEERING INC    60   \n",
       "4  3041178300    1/21/2021  FAMILY CENTERED SERVICES OF ALASKA INC    60   \n",
       "\n",
       "   InitialApprovalAmount  F_Undisbursed Channel Region TypeOfCall  \\\n",
       "0              7223025.0              1     TLS  South  BrandName   \n",
       "1              2000000.0              1     TLS  South  BrandName   \n",
       "2              2000000.0              0     TLS  South  BrandName   \n",
       "3              2000000.0              0     TLS  South  BrandName   \n",
       "4              2000000.0              0     TLS  South  BrandName   \n",
       "\n",
       "   InterestPerYear  \n",
       "0              0.3  \n",
       "1              0.3  \n",
       "2              0.1  \n",
       "3              0.1  \n",
       "4              0.1  "
      ]
     },
     "execution_count": 54,
     "metadata": {},
     "output_type": "execute_result"
    }
   ],
   "source": [
    "df_channel = df_raw.copy()\n",
    "df_channel.head()"
   ]
  },
  {
   "attachments": {},
   "cell_type": "markdown",
   "metadata": {},
   "source": [
    "## **Question 3.1**"
   ]
  },
  {
   "cell_type": "code",
   "execution_count": 55,
   "metadata": {},
   "outputs": [
    {
     "data": {
      "text/html": [
       "<div>\n",
       "<style scoped>\n",
       "    .dataframe tbody tr th:only-of-type {\n",
       "        vertical-align: middle;\n",
       "    }\n",
       "\n",
       "    .dataframe tbody tr th {\n",
       "        vertical-align: top;\n",
       "    }\n",
       "\n",
       "    .dataframe thead th {\n",
       "        text-align: right;\n",
       "    }\n",
       "</style>\n",
       "<table border=\"1\" class=\"dataframe\">\n",
       "  <thead>\n",
       "    <tr style=\"text-align: right;\">\n",
       "      <th></th>\n",
       "      <th>LoanNumber</th>\n",
       "      <th>DateApproved</th>\n",
       "      <th>BorrowerName</th>\n",
       "      <th>Term</th>\n",
       "      <th>InitialApprovalAmount</th>\n",
       "      <th>F_Undisbursed</th>\n",
       "      <th>Channel</th>\n",
       "      <th>Region</th>\n",
       "      <th>TypeOfCall</th>\n",
       "      <th>InterestPerYear</th>\n",
       "      <th>DisbursedAmount</th>\n",
       "      <th>InterestPerYearAmount</th>\n",
       "    </tr>\n",
       "  </thead>\n",
       "  <tbody>\n",
       "    <tr>\n",
       "      <th>0</th>\n",
       "      <td>5120868804</td>\n",
       "      <td>4/17/2021</td>\n",
       "      <td>HOPE COMMUNITY RESOURCES INC.</td>\n",
       "      <td>60</td>\n",
       "      <td>7223025.0</td>\n",
       "      <td>1</td>\n",
       "      <td>TLS</td>\n",
       "      <td>South</td>\n",
       "      <td>BrandName</td>\n",
       "      <td>0.3</td>\n",
       "      <td>0.0</td>\n",
       "      <td>2166907.5</td>\n",
       "    </tr>\n",
       "    <tr>\n",
       "      <th>1</th>\n",
       "      <td>1305708310</td>\n",
       "      <td>1/16/2021</td>\n",
       "      <td>FOUNTAINHEAD DEVELOPMENT INC</td>\n",
       "      <td>60</td>\n",
       "      <td>2000000.0</td>\n",
       "      <td>1</td>\n",
       "      <td>TLS</td>\n",
       "      <td>South</td>\n",
       "      <td>BrandName</td>\n",
       "      <td>0.3</td>\n",
       "      <td>0.0</td>\n",
       "      <td>600000.0</td>\n",
       "    </tr>\n",
       "    <tr>\n",
       "      <th>2</th>\n",
       "      <td>1528398702</td>\n",
       "      <td>3/27/2021</td>\n",
       "      <td>NORTHERN ENERGY SERVICES LLC</td>\n",
       "      <td>60</td>\n",
       "      <td>2000000.0</td>\n",
       "      <td>0</td>\n",
       "      <td>TLS</td>\n",
       "      <td>South</td>\n",
       "      <td>BrandName</td>\n",
       "      <td>0.1</td>\n",
       "      <td>2000000.0</td>\n",
       "      <td>200000.0</td>\n",
       "    </tr>\n",
       "    <tr>\n",
       "      <th>3</th>\n",
       "      <td>2524238501</td>\n",
       "      <td>2/20/2021</td>\n",
       "      <td>ALCAN ELECTRICAL AND ENGINEERING INC</td>\n",
       "      <td>60</td>\n",
       "      <td>2000000.0</td>\n",
       "      <td>0</td>\n",
       "      <td>TLS</td>\n",
       "      <td>South</td>\n",
       "      <td>BrandName</td>\n",
       "      <td>0.1</td>\n",
       "      <td>2000000.0</td>\n",
       "      <td>200000.0</td>\n",
       "    </tr>\n",
       "    <tr>\n",
       "      <th>4</th>\n",
       "      <td>3041178300</td>\n",
       "      <td>1/21/2021</td>\n",
       "      <td>FAMILY CENTERED SERVICES OF ALASKA INC</td>\n",
       "      <td>60</td>\n",
       "      <td>2000000.0</td>\n",
       "      <td>0</td>\n",
       "      <td>TLS</td>\n",
       "      <td>South</td>\n",
       "      <td>BrandName</td>\n",
       "      <td>0.1</td>\n",
       "      <td>2000000.0</td>\n",
       "      <td>200000.0</td>\n",
       "    </tr>\n",
       "  </tbody>\n",
       "</table>\n",
       "</div>"
      ],
      "text/plain": [
       "   LoanNumber DateApproved                            BorrowerName  Term  \\\n",
       "0  5120868804    4/17/2021           HOPE COMMUNITY RESOURCES INC.    60   \n",
       "1  1305708310    1/16/2021            FOUNTAINHEAD DEVELOPMENT INC    60   \n",
       "2  1528398702    3/27/2021            NORTHERN ENERGY SERVICES LLC    60   \n",
       "3  2524238501    2/20/2021    ALCAN ELECTRICAL AND ENGINEERING INC    60   \n",
       "4  3041178300    1/21/2021  FAMILY CENTERED SERVICES OF ALASKA INC    60   \n",
       "\n",
       "   InitialApprovalAmount  F_Undisbursed Channel Region TypeOfCall  \\\n",
       "0              7223025.0              1     TLS  South  BrandName   \n",
       "1              2000000.0              1     TLS  South  BrandName   \n",
       "2              2000000.0              0     TLS  South  BrandName   \n",
       "3              2000000.0              0     TLS  South  BrandName   \n",
       "4              2000000.0              0     TLS  South  BrandName   \n",
       "\n",
       "   InterestPerYear  DisbursedAmount  InterestPerYearAmount  \n",
       "0              0.3              0.0              2166907.5  \n",
       "1              0.3              0.0               600000.0  \n",
       "2              0.1        2000000.0               200000.0  \n",
       "3              0.1        2000000.0               200000.0  \n",
       "4              0.1        2000000.0               200000.0  "
      ]
     },
     "execution_count": 55,
     "metadata": {},
     "output_type": "execute_result"
    }
   ],
   "source": [
    "df_channel['DisbursedAmount'] = df_channel['InitialApprovalAmount'] * (1 - df_channel['F_Undisbursed'])\n",
    "df_channel['InterestPerYearAmount'] = df_channel['InterestPerYear'] * df_channel['InitialApprovalAmount']\n",
    "\n",
    "df_channel.head()"
   ]
  },
  {
   "cell_type": "code",
   "execution_count": 57,
   "metadata": {},
   "outputs": [
    {
     "data": {
      "text/html": [
       "<div>\n",
       "<style scoped>\n",
       "    .dataframe tbody tr th:only-of-type {\n",
       "        vertical-align: middle;\n",
       "    }\n",
       "\n",
       "    .dataframe tbody tr th {\n",
       "        vertical-align: top;\n",
       "    }\n",
       "\n",
       "    .dataframe thead th {\n",
       "        text-align: right;\n",
       "    }\n",
       "</style>\n",
       "<table border=\"1\" class=\"dataframe\">\n",
       "  <thead>\n",
       "    <tr style=\"text-align: right;\">\n",
       "      <th></th>\n",
       "      <th>Channel</th>\n",
       "      <th>DisbursedAmount</th>\n",
       "      <th>F_Undisbursed</th>\n",
       "      <th>InitialApprovalAmount</th>\n",
       "      <th>InterestPerYearAmount</th>\n",
       "      <th>LoanNumber</th>\n",
       "    </tr>\n",
       "  </thead>\n",
       "  <tbody>\n",
       "    <tr>\n",
       "      <th>0</th>\n",
       "      <td>App</td>\n",
       "      <td>4.661619e+08</td>\n",
       "      <td>49</td>\n",
       "      <td>4.742776e+08</td>\n",
       "      <td>2.470087e+07</td>\n",
       "      <td>1000</td>\n",
       "    </tr>\n",
       "    <tr>\n",
       "      <th>1</th>\n",
       "      <td>Sales Operator</td>\n",
       "      <td>2.553749e+08</td>\n",
       "      <td>314</td>\n",
       "      <td>3.520220e+08</td>\n",
       "      <td>4.352203e+07</td>\n",
       "      <td>1501</td>\n",
       "    </tr>\n",
       "    <tr>\n",
       "      <th>2</th>\n",
       "      <td>TLS</td>\n",
       "      <td>1.203456e+09</td>\n",
       "      <td>2</td>\n",
       "      <td>1.212679e+09</td>\n",
       "      <td>2.158401e+08</td>\n",
       "      <td>1999</td>\n",
       "    </tr>\n",
       "    <tr>\n",
       "      <th>3</th>\n",
       "      <td>Web</td>\n",
       "      <td>5.888599e+06</td>\n",
       "      <td>473</td>\n",
       "      <td>1.195463e+08</td>\n",
       "      <td>2.870887e+07</td>\n",
       "      <td>499</td>\n",
       "    </tr>\n",
       "  </tbody>\n",
       "</table>\n",
       "</div>"
      ],
      "text/plain": [
       "          Channel  DisbursedAmount  F_Undisbursed  InitialApprovalAmount  \\\n",
       "0             App     4.661619e+08             49           4.742776e+08   \n",
       "1  Sales Operator     2.553749e+08            314           3.520220e+08   \n",
       "2             TLS     1.203456e+09              2           1.212679e+09   \n",
       "3             Web     5.888599e+06            473           1.195463e+08   \n",
       "\n",
       "   InterestPerYearAmount  LoanNumber  \n",
       "0           2.470087e+07        1000  \n",
       "1           4.352203e+07        1501  \n",
       "2           2.158401e+08        1999  \n",
       "3           2.870887e+07         499  "
      ]
     },
     "execution_count": 57,
     "metadata": {},
     "output_type": "execute_result"
    }
   ],
   "source": [
    "# Estimate perfomance of Channels\n",
    "df_channelPerfomance = pd.pivot_table(df_channel, index='Channel', \n",
    "                            values=['LoanNumber', 'InitialApprovalAmount', 'F_Undisbursed', 'DisbursedAmount', 'InterestPerYearAmount'], \n",
    "                            aggfunc={'LoanNumber': 'count',\n",
    "                                     'InitialApprovalAmount': 'sum',\n",
    "                                     'F_Undisbursed': 'sum',\n",
    "                                     'DisbursedAmount': 'sum',\n",
    "                                     'InterestPerYearAmount': 'sum'}).reset_index()\n",
    "df_channelPerfomance"
   ]
  },
  {
   "cell_type": "code",
   "execution_count": 58,
   "metadata": {},
   "outputs": [
    {
     "data": {
      "text/html": [
       "<div>\n",
       "<style scoped>\n",
       "    .dataframe tbody tr th:only-of-type {\n",
       "        vertical-align: middle;\n",
       "    }\n",
       "\n",
       "    .dataframe tbody tr th {\n",
       "        vertical-align: top;\n",
       "    }\n",
       "\n",
       "    .dataframe thead th {\n",
       "        text-align: right;\n",
       "    }\n",
       "</style>\n",
       "<table border=\"1\" class=\"dataframe\">\n",
       "  <thead>\n",
       "    <tr style=\"text-align: right;\">\n",
       "      <th></th>\n",
       "      <th>Channel</th>\n",
       "      <th>DisbursedAmount</th>\n",
       "      <th>NumberOfUndisbursedContracts</th>\n",
       "      <th>InitialApprovalAmount</th>\n",
       "      <th>InterestPerYearAmount</th>\n",
       "      <th>NumberOfLoanContracts</th>\n",
       "    </tr>\n",
       "  </thead>\n",
       "  <tbody>\n",
       "    <tr>\n",
       "      <th>0</th>\n",
       "      <td>App</td>\n",
       "      <td>4.661619e+08</td>\n",
       "      <td>49</td>\n",
       "      <td>4.742776e+08</td>\n",
       "      <td>2.470087e+07</td>\n",
       "      <td>1000</td>\n",
       "    </tr>\n",
       "    <tr>\n",
       "      <th>1</th>\n",
       "      <td>Sales Operator</td>\n",
       "      <td>2.553749e+08</td>\n",
       "      <td>314</td>\n",
       "      <td>3.520220e+08</td>\n",
       "      <td>4.352203e+07</td>\n",
       "      <td>1501</td>\n",
       "    </tr>\n",
       "    <tr>\n",
       "      <th>2</th>\n",
       "      <td>TLS</td>\n",
       "      <td>1.203456e+09</td>\n",
       "      <td>2</td>\n",
       "      <td>1.212679e+09</td>\n",
       "      <td>2.158401e+08</td>\n",
       "      <td>1999</td>\n",
       "    </tr>\n",
       "    <tr>\n",
       "      <th>3</th>\n",
       "      <td>Web</td>\n",
       "      <td>5.888599e+06</td>\n",
       "      <td>473</td>\n",
       "      <td>1.195463e+08</td>\n",
       "      <td>2.870887e+07</td>\n",
       "      <td>499</td>\n",
       "    </tr>\n",
       "  </tbody>\n",
       "</table>\n",
       "</div>"
      ],
      "text/plain": [
       "          Channel  DisbursedAmount  NumberOfUndisbursedContracts  \\\n",
       "0             App     4.661619e+08                            49   \n",
       "1  Sales Operator     2.553749e+08                           314   \n",
       "2             TLS     1.203456e+09                             2   \n",
       "3             Web     5.888599e+06                           473   \n",
       "\n",
       "   InitialApprovalAmount  InterestPerYearAmount  NumberOfLoanContracts  \n",
       "0           4.742776e+08           2.470087e+07                   1000  \n",
       "1           3.520220e+08           4.352203e+07                   1501  \n",
       "2           1.212679e+09           2.158401e+08                   1999  \n",
       "3           1.195463e+08           2.870887e+07                    499  "
      ]
     },
     "execution_count": 58,
     "metadata": {},
     "output_type": "execute_result"
    }
   ],
   "source": [
    "#rename columns\n",
    "df_channelPerfomance.rename(columns={'LoanNumber': 'NumberOfLoanContracts', \n",
    "                                     'F_Undisbursed': 'NumberOfUndisbursedContracts'}, inplace=True)\n",
    "df_channelPerfomance"
   ]
  },
  {
   "cell_type": "code",
   "execution_count": 59,
   "metadata": {},
   "outputs": [
    {
     "data": {
      "text/html": [
       "<div>\n",
       "<style scoped>\n",
       "    .dataframe tbody tr th:only-of-type {\n",
       "        vertical-align: middle;\n",
       "    }\n",
       "\n",
       "    .dataframe tbody tr th {\n",
       "        vertical-align: top;\n",
       "    }\n",
       "\n",
       "    .dataframe thead th {\n",
       "        text-align: right;\n",
       "    }\n",
       "</style>\n",
       "<table border=\"1\" class=\"dataframe\">\n",
       "  <thead>\n",
       "    <tr style=\"text-align: right;\">\n",
       "      <th></th>\n",
       "      <th>Channel</th>\n",
       "      <th>DisbursedAmount</th>\n",
       "      <th>NumberOfUndisbursedContracts</th>\n",
       "      <th>InitialApprovalAmount</th>\n",
       "      <th>InterestPerYearAmount</th>\n",
       "      <th>NumberOfLoanContracts</th>\n",
       "      <th>AverageInitialAmountPerLoanContract</th>\n",
       "      <th>AverageInterestPerYear</th>\n",
       "      <th>PercentUndisbursedLoan</th>\n",
       "    </tr>\n",
       "  </thead>\n",
       "  <tbody>\n",
       "    <tr>\n",
       "      <th>0</th>\n",
       "      <td>App</td>\n",
       "      <td>4.661619e+08</td>\n",
       "      <td>49</td>\n",
       "      <td>4.742776e+08</td>\n",
       "      <td>2.470087e+07</td>\n",
       "      <td>1000</td>\n",
       "      <td>474277.624160</td>\n",
       "      <td>0.052081</td>\n",
       "      <td>0.049000</td>\n",
       "    </tr>\n",
       "    <tr>\n",
       "      <th>1</th>\n",
       "      <td>Sales Operator</td>\n",
       "      <td>2.553749e+08</td>\n",
       "      <td>314</td>\n",
       "      <td>3.520220e+08</td>\n",
       "      <td>4.352203e+07</td>\n",
       "      <td>1501</td>\n",
       "      <td>234524.985230</td>\n",
       "      <td>0.123634</td>\n",
       "      <td>0.209194</td>\n",
       "    </tr>\n",
       "    <tr>\n",
       "      <th>2</th>\n",
       "      <td>TLS</td>\n",
       "      <td>1.203456e+09</td>\n",
       "      <td>2</td>\n",
       "      <td>1.212679e+09</td>\n",
       "      <td>2.158401e+08</td>\n",
       "      <td>1999</td>\n",
       "      <td>606642.825353</td>\n",
       "      <td>0.177986</td>\n",
       "      <td>0.001001</td>\n",
       "    </tr>\n",
       "    <tr>\n",
       "      <th>3</th>\n",
       "      <td>Web</td>\n",
       "      <td>5.888599e+06</td>\n",
       "      <td>473</td>\n",
       "      <td>1.195463e+08</td>\n",
       "      <td>2.870887e+07</td>\n",
       "      <td>499</td>\n",
       "      <td>239571.826994</td>\n",
       "      <td>0.240148</td>\n",
       "      <td>0.947896</td>\n",
       "    </tr>\n",
       "  </tbody>\n",
       "</table>\n",
       "</div>"
      ],
      "text/plain": [
       "          Channel  DisbursedAmount  NumberOfUndisbursedContracts  \\\n",
       "0             App     4.661619e+08                            49   \n",
       "1  Sales Operator     2.553749e+08                           314   \n",
       "2             TLS     1.203456e+09                             2   \n",
       "3             Web     5.888599e+06                           473   \n",
       "\n",
       "   InitialApprovalAmount  InterestPerYearAmount  NumberOfLoanContracts  \\\n",
       "0           4.742776e+08           2.470087e+07                   1000   \n",
       "1           3.520220e+08           4.352203e+07                   1501   \n",
       "2           1.212679e+09           2.158401e+08                   1999   \n",
       "3           1.195463e+08           2.870887e+07                    499   \n",
       "\n",
       "   AverageInitialAmountPerLoanContract  AverageInterestPerYear  \\\n",
       "0                        474277.624160                0.052081   \n",
       "1                        234524.985230                0.123634   \n",
       "2                        606642.825353                0.177986   \n",
       "3                        239571.826994                0.240148   \n",
       "\n",
       "   PercentUndisbursedLoan  \n",
       "0                0.049000  \n",
       "1                0.209194  \n",
       "2                0.001001  \n",
       "3                0.947896  "
      ]
     },
     "execution_count": 59,
     "metadata": {},
     "output_type": "execute_result"
    }
   ],
   "source": [
    "df_channelPerfomance['AverageInitialAmountPerLoanContract'] = df_channelPerfomance['InitialApprovalAmount'] / df_channelPerfomance['NumberOfLoanContracts']\n",
    "df_channelPerfomance['AverageInterestPerYear'] = df_channelPerfomance['InterestPerYearAmount'] / df_channelPerfomance['InitialApprovalAmount']\n",
    "df_channelPerfomance['PercentUndisbursedLoan'] = df_channelPerfomance['NumberOfUndisbursedContracts'] / df_channelPerfomance['NumberOfLoanContracts']\n",
    "df_channelPerfomance"
   ]
  },
  {
   "attachments": {},
   "cell_type": "markdown",
   "metadata": {},
   "source": [
    "## **Question 3.2**"
   ]
  },
  {
   "cell_type": "code",
   "execution_count": 64,
   "metadata": {},
   "outputs": [
    {
     "data": {
      "text/html": [
       "<div>\n",
       "<style scoped>\n",
       "    .dataframe tbody tr th:only-of-type {\n",
       "        vertical-align: middle;\n",
       "    }\n",
       "\n",
       "    .dataframe tbody tr th {\n",
       "        vertical-align: top;\n",
       "    }\n",
       "\n",
       "    .dataframe thead th {\n",
       "        text-align: right;\n",
       "    }\n",
       "</style>\n",
       "<table border=\"1\" class=\"dataframe\">\n",
       "  <thead>\n",
       "    <tr style=\"text-align: right;\">\n",
       "      <th></th>\n",
       "      <th>LoanNumber</th>\n",
       "      <th>DateApproved</th>\n",
       "      <th>BorrowerName</th>\n",
       "      <th>Term</th>\n",
       "      <th>InitialApprovalAmount</th>\n",
       "      <th>F_Undisbursed</th>\n",
       "      <th>Channel</th>\n",
       "      <th>Region</th>\n",
       "      <th>TypeOfCall</th>\n",
       "      <th>InterestPerYear</th>\n",
       "    </tr>\n",
       "  </thead>\n",
       "  <tbody>\n",
       "    <tr>\n",
       "      <th>0</th>\n",
       "      <td>5120868804</td>\n",
       "      <td>4/17/2021</td>\n",
       "      <td>HOPE COMMUNITY RESOURCES INC.</td>\n",
       "      <td>60</td>\n",
       "      <td>7223025.0</td>\n",
       "      <td>1</td>\n",
       "      <td>TLS</td>\n",
       "      <td>South</td>\n",
       "      <td>BrandName</td>\n",
       "      <td>0.3</td>\n",
       "    </tr>\n",
       "    <tr>\n",
       "      <th>1</th>\n",
       "      <td>1305708310</td>\n",
       "      <td>1/16/2021</td>\n",
       "      <td>FOUNTAINHEAD DEVELOPMENT INC</td>\n",
       "      <td>60</td>\n",
       "      <td>2000000.0</td>\n",
       "      <td>1</td>\n",
       "      <td>TLS</td>\n",
       "      <td>South</td>\n",
       "      <td>BrandName</td>\n",
       "      <td>0.3</td>\n",
       "    </tr>\n",
       "    <tr>\n",
       "      <th>2</th>\n",
       "      <td>1528398702</td>\n",
       "      <td>3/27/2021</td>\n",
       "      <td>NORTHERN ENERGY SERVICES LLC</td>\n",
       "      <td>60</td>\n",
       "      <td>2000000.0</td>\n",
       "      <td>0</td>\n",
       "      <td>TLS</td>\n",
       "      <td>South</td>\n",
       "      <td>BrandName</td>\n",
       "      <td>0.1</td>\n",
       "    </tr>\n",
       "    <tr>\n",
       "      <th>3</th>\n",
       "      <td>2524238501</td>\n",
       "      <td>2/20/2021</td>\n",
       "      <td>ALCAN ELECTRICAL AND ENGINEERING INC</td>\n",
       "      <td>60</td>\n",
       "      <td>2000000.0</td>\n",
       "      <td>0</td>\n",
       "      <td>TLS</td>\n",
       "      <td>South</td>\n",
       "      <td>BrandName</td>\n",
       "      <td>0.1</td>\n",
       "    </tr>\n",
       "    <tr>\n",
       "      <th>4</th>\n",
       "      <td>3041178300</td>\n",
       "      <td>1/21/2021</td>\n",
       "      <td>FAMILY CENTERED SERVICES OF ALASKA INC</td>\n",
       "      <td>60</td>\n",
       "      <td>2000000.0</td>\n",
       "      <td>0</td>\n",
       "      <td>TLS</td>\n",
       "      <td>South</td>\n",
       "      <td>BrandName</td>\n",
       "      <td>0.1</td>\n",
       "    </tr>\n",
       "  </tbody>\n",
       "</table>\n",
       "</div>"
      ],
      "text/plain": [
       "   LoanNumber DateApproved                            BorrowerName  Term  \\\n",
       "0  5120868804    4/17/2021           HOPE COMMUNITY RESOURCES INC.    60   \n",
       "1  1305708310    1/16/2021            FOUNTAINHEAD DEVELOPMENT INC    60   \n",
       "2  1528398702    3/27/2021            NORTHERN ENERGY SERVICES LLC    60   \n",
       "3  2524238501    2/20/2021    ALCAN ELECTRICAL AND ENGINEERING INC    60   \n",
       "4  3041178300    1/21/2021  FAMILY CENTERED SERVICES OF ALASKA INC    60   \n",
       "\n",
       "   InitialApprovalAmount  F_Undisbursed Channel Region TypeOfCall  \\\n",
       "0              7223025.0              1     TLS  South  BrandName   \n",
       "1              2000000.0              1     TLS  South  BrandName   \n",
       "2              2000000.0              0     TLS  South  BrandName   \n",
       "3              2000000.0              0     TLS  South  BrandName   \n",
       "4              2000000.0              0     TLS  South  BrandName   \n",
       "\n",
       "   InterestPerYear  \n",
       "0              0.3  \n",
       "1              0.3  \n",
       "2              0.1  \n",
       "3              0.1  \n",
       "4              0.1  "
      ]
     },
     "execution_count": 64,
     "metadata": {},
     "output_type": "execute_result"
    }
   ],
   "source": [
    "df_TLS = df_raw[df_raw['Channel']=='TLS']\n",
    "df_TLS.head()"
   ]
  },
  {
   "cell_type": "code",
   "execution_count": 65,
   "metadata": {},
   "outputs": [
    {
     "data": {
      "text/plain": [
       "array(['BrandName', 'NoBrandName', 'Brandname'], dtype=object)"
      ]
     },
     "execution_count": 65,
     "metadata": {},
     "output_type": "execute_result"
    }
   ],
   "source": [
    "df_TLS['TypeOfCall'].unique()"
   ]
  },
  {
   "cell_type": "code",
   "execution_count": 66,
   "metadata": {},
   "outputs": [
    {
     "name": "stderr",
     "output_type": "stream",
     "text": [
      "C:\\Users\\Admin\\AppData\\Local\\Temp\\ipykernel_20820\\668578754.py:2: SettingWithCopyWarning: \n",
      "A value is trying to be set on a copy of a slice from a DataFrame\n",
      "\n",
      "See the caveats in the documentation: https://pandas.pydata.org/pandas-docs/stable/user_guide/indexing.html#returning-a-view-versus-a-copy\n",
      "  df_TLS['TypeOfCall'].fillna('Unknown', inplace=True)\n"
     ]
    },
    {
     "data": {
      "text/plain": [
       "array(['BrandName', 'NoBrandName', 'Brandname'], dtype=object)"
      ]
     },
     "execution_count": 66,
     "metadata": {},
     "output_type": "execute_result"
    }
   ],
   "source": [
    "# Fill missing value in TypeOfCall column\n",
    "df_TLS['TypeOfCall'].fillna('Unknown', inplace=True)\n",
    "df_TLS['TypeOfCall'].unique()"
   ]
  },
  {
   "cell_type": "code",
   "execution_count": 67,
   "metadata": {},
   "outputs": [
    {
     "name": "stderr",
     "output_type": "stream",
     "text": [
      "C:\\Users\\Admin\\AppData\\Local\\Temp\\ipykernel_20820\\2738264683.py:1: SettingWithCopyWarning: \n",
      "A value is trying to be set on a copy of a slice from a DataFrame.\n",
      "Try using .loc[row_indexer,col_indexer] = value instead\n",
      "\n",
      "See the caveats in the documentation: https://pandas.pydata.org/pandas-docs/stable/user_guide/indexing.html#returning-a-view-versus-a-copy\n",
      "  df_TLS['TypeOfCall'] = df_TLS['TypeOfCall'].apply(lambda x: 'BrandName' if x=='Brandname' else x)\n"
     ]
    },
    {
     "data": {
      "text/plain": [
       "array(['BrandName', 'NoBrandName'], dtype=object)"
      ]
     },
     "execution_count": 67,
     "metadata": {},
     "output_type": "execute_result"
    }
   ],
   "source": [
    "df_TLS['TypeOfCall'] = df_TLS['TypeOfCall'].apply(lambda x: 'BrandName' if x=='Brandname' else x)\n",
    "df_TLS['TypeOfCall'].unique()"
   ]
  },
  {
   "cell_type": "code",
   "execution_count": 69,
   "metadata": {},
   "outputs": [
    {
     "name": "stderr",
     "output_type": "stream",
     "text": [
      "C:\\Users\\Admin\\AppData\\Local\\Temp\\ipykernel_20820\\4193923946.py:1: SettingWithCopyWarning: \n",
      "A value is trying to be set on a copy of a slice from a DataFrame.\n",
      "Try using .loc[row_indexer,col_indexer] = value instead\n",
      "\n",
      "See the caveats in the documentation: https://pandas.pydata.org/pandas-docs/stable/user_guide/indexing.html#returning-a-view-versus-a-copy\n",
      "  df_TLS['TelecomCost'] = df_TLS['TypeOfCall'].apply(lambda x: 0.2 if x=='BrandName' else (0.1 if x=='NoBrandName' else 0.0))\n"
     ]
    },
    {
     "data": {
      "text/html": [
       "<div>\n",
       "<style scoped>\n",
       "    .dataframe tbody tr th:only-of-type {\n",
       "        vertical-align: middle;\n",
       "    }\n",
       "\n",
       "    .dataframe tbody tr th {\n",
       "        vertical-align: top;\n",
       "    }\n",
       "\n",
       "    .dataframe thead th {\n",
       "        text-align: right;\n",
       "    }\n",
       "</style>\n",
       "<table border=\"1\" class=\"dataframe\">\n",
       "  <thead>\n",
       "    <tr style=\"text-align: right;\">\n",
       "      <th></th>\n",
       "      <th>LoanNumber</th>\n",
       "      <th>DateApproved</th>\n",
       "      <th>BorrowerName</th>\n",
       "      <th>Term</th>\n",
       "      <th>InitialApprovalAmount</th>\n",
       "      <th>F_Undisbursed</th>\n",
       "      <th>Channel</th>\n",
       "      <th>Region</th>\n",
       "      <th>TypeOfCall</th>\n",
       "      <th>InterestPerYear</th>\n",
       "      <th>TelecomCost</th>\n",
       "    </tr>\n",
       "  </thead>\n",
       "  <tbody>\n",
       "    <tr>\n",
       "      <th>0</th>\n",
       "      <td>5120868804</td>\n",
       "      <td>4/17/2021</td>\n",
       "      <td>HOPE COMMUNITY RESOURCES INC.</td>\n",
       "      <td>60</td>\n",
       "      <td>7223025.0</td>\n",
       "      <td>1</td>\n",
       "      <td>TLS</td>\n",
       "      <td>South</td>\n",
       "      <td>BrandName</td>\n",
       "      <td>0.3</td>\n",
       "      <td>0.2</td>\n",
       "    </tr>\n",
       "    <tr>\n",
       "      <th>1</th>\n",
       "      <td>1305708310</td>\n",
       "      <td>1/16/2021</td>\n",
       "      <td>FOUNTAINHEAD DEVELOPMENT INC</td>\n",
       "      <td>60</td>\n",
       "      <td>2000000.0</td>\n",
       "      <td>1</td>\n",
       "      <td>TLS</td>\n",
       "      <td>South</td>\n",
       "      <td>BrandName</td>\n",
       "      <td>0.3</td>\n",
       "      <td>0.2</td>\n",
       "    </tr>\n",
       "    <tr>\n",
       "      <th>2</th>\n",
       "      <td>1528398702</td>\n",
       "      <td>3/27/2021</td>\n",
       "      <td>NORTHERN ENERGY SERVICES LLC</td>\n",
       "      <td>60</td>\n",
       "      <td>2000000.0</td>\n",
       "      <td>0</td>\n",
       "      <td>TLS</td>\n",
       "      <td>South</td>\n",
       "      <td>BrandName</td>\n",
       "      <td>0.1</td>\n",
       "      <td>0.2</td>\n",
       "    </tr>\n",
       "    <tr>\n",
       "      <th>3</th>\n",
       "      <td>2524238501</td>\n",
       "      <td>2/20/2021</td>\n",
       "      <td>ALCAN ELECTRICAL AND ENGINEERING INC</td>\n",
       "      <td>60</td>\n",
       "      <td>2000000.0</td>\n",
       "      <td>0</td>\n",
       "      <td>TLS</td>\n",
       "      <td>South</td>\n",
       "      <td>BrandName</td>\n",
       "      <td>0.1</td>\n",
       "      <td>0.2</td>\n",
       "    </tr>\n",
       "    <tr>\n",
       "      <th>4</th>\n",
       "      <td>3041178300</td>\n",
       "      <td>1/21/2021</td>\n",
       "      <td>FAMILY CENTERED SERVICES OF ALASKA INC</td>\n",
       "      <td>60</td>\n",
       "      <td>2000000.0</td>\n",
       "      <td>0</td>\n",
       "      <td>TLS</td>\n",
       "      <td>South</td>\n",
       "      <td>BrandName</td>\n",
       "      <td>0.1</td>\n",
       "      <td>0.2</td>\n",
       "    </tr>\n",
       "  </tbody>\n",
       "</table>\n",
       "</div>"
      ],
      "text/plain": [
       "   LoanNumber DateApproved                            BorrowerName  Term  \\\n",
       "0  5120868804    4/17/2021           HOPE COMMUNITY RESOURCES INC.    60   \n",
       "1  1305708310    1/16/2021            FOUNTAINHEAD DEVELOPMENT INC    60   \n",
       "2  1528398702    3/27/2021            NORTHERN ENERGY SERVICES LLC    60   \n",
       "3  2524238501    2/20/2021    ALCAN ELECTRICAL AND ENGINEERING INC    60   \n",
       "4  3041178300    1/21/2021  FAMILY CENTERED SERVICES OF ALASKA INC    60   \n",
       "\n",
       "   InitialApprovalAmount  F_Undisbursed Channel Region TypeOfCall  \\\n",
       "0              7223025.0              1     TLS  South  BrandName   \n",
       "1              2000000.0              1     TLS  South  BrandName   \n",
       "2              2000000.0              0     TLS  South  BrandName   \n",
       "3              2000000.0              0     TLS  South  BrandName   \n",
       "4              2000000.0              0     TLS  South  BrandName   \n",
       "\n",
       "   InterestPerYear  TelecomCost  \n",
       "0              0.3          0.2  \n",
       "1              0.3          0.2  \n",
       "2              0.1          0.2  \n",
       "3              0.1          0.2  \n",
       "4              0.1          0.2  "
      ]
     },
     "execution_count": 69,
     "metadata": {},
     "output_type": "execute_result"
    }
   ],
   "source": [
    "df_TLS['TelecomCost'] = df_TLS['TypeOfCall'].apply(lambda x: 0.2 if x=='BrandName' else (0.1 if x=='NoBrandName' else 0.0))\n",
    "df_TLS.head()"
   ]
  },
  {
   "cell_type": "code",
   "execution_count": 70,
   "metadata": {},
   "outputs": [
    {
     "name": "stdout",
     "output_type": "stream",
     "text": [
      "Total cost of TLS channel: $207\n"
     ]
    }
   ],
   "source": [
    "#total cost of TLS channel\n",
    "totalCostOfTLSChannel = df_TLS['TelecomCost'].sum()\n",
    "print('Total cost of TLS channel: ${:,.0f}'.format(totalCostOfTLSChannel))"
   ]
  },
  {
   "attachments": {},
   "cell_type": "markdown",
   "metadata": {},
   "source": [
    "## **Question 3.3**"
   ]
  },
  {
   "cell_type": "code",
   "execution_count": 71,
   "metadata": {},
   "outputs": [
    {
     "data": {
      "text/html": [
       "<div>\n",
       "<style scoped>\n",
       "    .dataframe tbody tr th:only-of-type {\n",
       "        vertical-align: middle;\n",
       "    }\n",
       "\n",
       "    .dataframe tbody tr th {\n",
       "        vertical-align: top;\n",
       "    }\n",
       "\n",
       "    .dataframe thead th {\n",
       "        text-align: right;\n",
       "    }\n",
       "</style>\n",
       "<table border=\"1\" class=\"dataframe\">\n",
       "  <thead>\n",
       "    <tr style=\"text-align: right;\">\n",
       "      <th></th>\n",
       "      <th>LoanNumber</th>\n",
       "      <th>DateApproved</th>\n",
       "      <th>BorrowerName</th>\n",
       "      <th>Term</th>\n",
       "      <th>InitialApprovalAmount</th>\n",
       "      <th>F_Undisbursed</th>\n",
       "      <th>Channel</th>\n",
       "      <th>Region</th>\n",
       "      <th>TypeOfCall</th>\n",
       "      <th>InterestPerYear</th>\n",
       "    </tr>\n",
       "  </thead>\n",
       "  <tbody>\n",
       "    <tr>\n",
       "      <th>0</th>\n",
       "      <td>5120868804</td>\n",
       "      <td>4/17/2021</td>\n",
       "      <td>HOPE COMMUNITY RESOURCES INC.</td>\n",
       "      <td>60</td>\n",
       "      <td>7223025.0</td>\n",
       "      <td>1</td>\n",
       "      <td>TLS</td>\n",
       "      <td>South</td>\n",
       "      <td>BrandName</td>\n",
       "      <td>0.3</td>\n",
       "    </tr>\n",
       "    <tr>\n",
       "      <th>1</th>\n",
       "      <td>1305708310</td>\n",
       "      <td>1/16/2021</td>\n",
       "      <td>FOUNTAINHEAD DEVELOPMENT INC</td>\n",
       "      <td>60</td>\n",
       "      <td>2000000.0</td>\n",
       "      <td>1</td>\n",
       "      <td>TLS</td>\n",
       "      <td>South</td>\n",
       "      <td>BrandName</td>\n",
       "      <td>0.3</td>\n",
       "    </tr>\n",
       "    <tr>\n",
       "      <th>2</th>\n",
       "      <td>1528398702</td>\n",
       "      <td>3/27/2021</td>\n",
       "      <td>NORTHERN ENERGY SERVICES LLC</td>\n",
       "      <td>60</td>\n",
       "      <td>2000000.0</td>\n",
       "      <td>0</td>\n",
       "      <td>TLS</td>\n",
       "      <td>South</td>\n",
       "      <td>BrandName</td>\n",
       "      <td>0.1</td>\n",
       "    </tr>\n",
       "    <tr>\n",
       "      <th>3</th>\n",
       "      <td>2524238501</td>\n",
       "      <td>2/20/2021</td>\n",
       "      <td>ALCAN ELECTRICAL AND ENGINEERING INC</td>\n",
       "      <td>60</td>\n",
       "      <td>2000000.0</td>\n",
       "      <td>0</td>\n",
       "      <td>TLS</td>\n",
       "      <td>South</td>\n",
       "      <td>BrandName</td>\n",
       "      <td>0.1</td>\n",
       "    </tr>\n",
       "    <tr>\n",
       "      <th>4</th>\n",
       "      <td>3041178300</td>\n",
       "      <td>1/21/2021</td>\n",
       "      <td>FAMILY CENTERED SERVICES OF ALASKA INC</td>\n",
       "      <td>60</td>\n",
       "      <td>2000000.0</td>\n",
       "      <td>0</td>\n",
       "      <td>TLS</td>\n",
       "      <td>South</td>\n",
       "      <td>BrandName</td>\n",
       "      <td>0.1</td>\n",
       "    </tr>\n",
       "  </tbody>\n",
       "</table>\n",
       "</div>"
      ],
      "text/plain": [
       "   LoanNumber DateApproved                            BorrowerName  Term  \\\n",
       "0  5120868804    4/17/2021           HOPE COMMUNITY RESOURCES INC.    60   \n",
       "1  1305708310    1/16/2021            FOUNTAINHEAD DEVELOPMENT INC    60   \n",
       "2  1528398702    3/27/2021            NORTHERN ENERGY SERVICES LLC    60   \n",
       "3  2524238501    2/20/2021    ALCAN ELECTRICAL AND ENGINEERING INC    60   \n",
       "4  3041178300    1/21/2021  FAMILY CENTERED SERVICES OF ALASKA INC    60   \n",
       "\n",
       "   InitialApprovalAmount  F_Undisbursed Channel Region TypeOfCall  \\\n",
       "0              7223025.0              1     TLS  South  BrandName   \n",
       "1              2000000.0              1     TLS  South  BrandName   \n",
       "2              2000000.0              0     TLS  South  BrandName   \n",
       "3              2000000.0              0     TLS  South  BrandName   \n",
       "4              2000000.0              0     TLS  South  BrandName   \n",
       "\n",
       "   InterestPerYear  \n",
       "0              0.3  \n",
       "1              0.3  \n",
       "2              0.1  \n",
       "3              0.1  \n",
       "4              0.1  "
      ]
     },
     "execution_count": 71,
     "metadata": {},
     "output_type": "execute_result"
    }
   ],
   "source": [
    "df.head()"
   ]
  },
  {
   "cell_type": "code",
   "execution_count": 72,
   "metadata": {},
   "outputs": [
    {
     "data": {
      "text/html": [
       "<div>\n",
       "<style scoped>\n",
       "    .dataframe tbody tr th:only-of-type {\n",
       "        vertical-align: middle;\n",
       "    }\n",
       "\n",
       "    .dataframe tbody tr th {\n",
       "        vertical-align: top;\n",
       "    }\n",
       "\n",
       "    .dataframe thead th {\n",
       "        text-align: right;\n",
       "    }\n",
       "</style>\n",
       "<table border=\"1\" class=\"dataframe\">\n",
       "  <thead>\n",
       "    <tr style=\"text-align: right;\">\n",
       "      <th></th>\n",
       "      <th>LoanNumber</th>\n",
       "      <th>F_Undisbursed</th>\n",
       "      <th>Channel</th>\n",
       "      <th>TypeOfCall</th>\n",
       "    </tr>\n",
       "  </thead>\n",
       "  <tbody>\n",
       "    <tr>\n",
       "      <th>0</th>\n",
       "      <td>5120868804</td>\n",
       "      <td>1</td>\n",
       "      <td>TLS</td>\n",
       "      <td>BrandName</td>\n",
       "    </tr>\n",
       "    <tr>\n",
       "      <th>1</th>\n",
       "      <td>1305708310</td>\n",
       "      <td>1</td>\n",
       "      <td>TLS</td>\n",
       "      <td>BrandName</td>\n",
       "    </tr>\n",
       "    <tr>\n",
       "      <th>2</th>\n",
       "      <td>1528398702</td>\n",
       "      <td>0</td>\n",
       "      <td>TLS</td>\n",
       "      <td>BrandName</td>\n",
       "    </tr>\n",
       "    <tr>\n",
       "      <th>3</th>\n",
       "      <td>2524238501</td>\n",
       "      <td>0</td>\n",
       "      <td>TLS</td>\n",
       "      <td>BrandName</td>\n",
       "    </tr>\n",
       "    <tr>\n",
       "      <th>4</th>\n",
       "      <td>3041178300</td>\n",
       "      <td>0</td>\n",
       "      <td>TLS</td>\n",
       "      <td>BrandName</td>\n",
       "    </tr>\n",
       "  </tbody>\n",
       "</table>\n",
       "</div>"
      ],
      "text/plain": [
       "   LoanNumber  F_Undisbursed Channel TypeOfCall\n",
       "0  5120868804              1     TLS  BrandName\n",
       "1  1305708310              1     TLS  BrandName\n",
       "2  1528398702              0     TLS  BrandName\n",
       "3  2524238501              0     TLS  BrandName\n",
       "4  3041178300              0     TLS  BrandName"
      ]
     },
     "execution_count": 72,
     "metadata": {},
     "output_type": "execute_result"
    }
   ],
   "source": [
    "df_BrandNameStatus = df[['LoanNumber', 'F_Undisbursed', 'Channel', 'TypeOfCall']]\n",
    "df_BrandNameStatus.head()"
   ]
  },
  {
   "cell_type": "code",
   "execution_count": 73,
   "metadata": {},
   "outputs": [
    {
     "name": "stdout",
     "output_type": "stream",
     "text": [
      "<class 'pandas.core.frame.DataFrame'>\n",
      "RangeIndex: 4999 entries, 0 to 4998\n",
      "Data columns (total 4 columns):\n",
      " #   Column         Non-Null Count  Dtype \n",
      "---  ------         --------------  ----- \n",
      " 0   LoanNumber     4999 non-null   int64 \n",
      " 1   F_Undisbursed  4999 non-null   int64 \n",
      " 2   Channel        4999 non-null   object\n",
      " 3   TypeOfCall     1999 non-null   object\n",
      "dtypes: int64(2), object(2)\n",
      "memory usage: 156.3+ KB\n"
     ]
    }
   ],
   "source": [
    "df_BrandNameStatus.info()"
   ]
  },
  {
   "cell_type": "code",
   "execution_count": 74,
   "metadata": {},
   "outputs": [
    {
     "data": {
      "text/plain": [
       "array(['BrandName', 'NoBrandName', 'Brandname', nan], dtype=object)"
      ]
     },
     "execution_count": 74,
     "metadata": {},
     "output_type": "execute_result"
    }
   ],
   "source": [
    "df_BrandNameStatus['TypeOfCall'].unique()"
   ]
  },
  {
   "cell_type": "code",
   "execution_count": 75,
   "metadata": {},
   "outputs": [
    {
     "name": "stderr",
     "output_type": "stream",
     "text": [
      "C:\\Users\\Admin\\AppData\\Local\\Temp\\ipykernel_20820\\2626389582.py:1: SettingWithCopyWarning: \n",
      "A value is trying to be set on a copy of a slice from a DataFrame\n",
      "\n",
      "See the caveats in the documentation: https://pandas.pydata.org/pandas-docs/stable/user_guide/indexing.html#returning-a-view-versus-a-copy\n",
      "  df_BrandNameStatus.fillna('Unknown', inplace=True)\n"
     ]
    }
   ],
   "source": [
    "df_BrandNameStatus.fillna('Unknown', inplace=True)"
   ]
  },
  {
   "cell_type": "code",
   "execution_count": 76,
   "metadata": {},
   "outputs": [
    {
     "name": "stderr",
     "output_type": "stream",
     "text": [
      "C:\\Users\\Admin\\AppData\\Local\\Temp\\ipykernel_20820\\806702666.py:1: SettingWithCopyWarning: \n",
      "A value is trying to be set on a copy of a slice from a DataFrame.\n",
      "Try using .loc[row_indexer,col_indexer] = value instead\n",
      "\n",
      "See the caveats in the documentation: https://pandas.pydata.org/pandas-docs/stable/user_guide/indexing.html#returning-a-view-versus-a-copy\n",
      "  df_BrandNameStatus['TypeOfCall'] = df_BrandNameStatus['TypeOfCall'].apply(lambda x: 'BrandName' if x=='Brandname' else x)\n"
     ]
    },
    {
     "data": {
      "text/plain": [
       "array(['BrandName', 'NoBrandName', 'Unknown'], dtype=object)"
      ]
     },
     "execution_count": 76,
     "metadata": {},
     "output_type": "execute_result"
    }
   ],
   "source": [
    "df_BrandNameStatus['TypeOfCall'] = df_BrandNameStatus['TypeOfCall'].apply(lambda x: 'BrandName' if x=='Brandname' else x)\n",
    "df_BrandNameStatus['TypeOfCall'].unique()"
   ]
  },
  {
   "cell_type": "code",
   "execution_count": 77,
   "metadata": {},
   "outputs": [
    {
     "data": {
      "text/html": [
       "<div>\n",
       "<style scoped>\n",
       "    .dataframe tbody tr th:only-of-type {\n",
       "        vertical-align: middle;\n",
       "    }\n",
       "\n",
       "    .dataframe tbody tr th {\n",
       "        vertical-align: top;\n",
       "    }\n",
       "\n",
       "    .dataframe thead tr th {\n",
       "        text-align: left;\n",
       "    }\n",
       "</style>\n",
       "<table border=\"1\" class=\"dataframe\">\n",
       "  <thead>\n",
       "    <tr>\n",
       "      <th></th>\n",
       "      <th>Channel</th>\n",
       "      <th>TypeOfCall</th>\n",
       "      <th colspan=\"2\" halign=\"left\">LoanNumber</th>\n",
       "    </tr>\n",
       "    <tr>\n",
       "      <th>F_Undisbursed</th>\n",
       "      <th></th>\n",
       "      <th></th>\n",
       "      <th>0</th>\n",
       "      <th>1</th>\n",
       "    </tr>\n",
       "  </thead>\n",
       "  <tbody>\n",
       "    <tr>\n",
       "      <th>0</th>\n",
       "      <td>App</td>\n",
       "      <td>Unknown</td>\n",
       "      <td>951.0</td>\n",
       "      <td>49.0</td>\n",
       "    </tr>\n",
       "    <tr>\n",
       "      <th>1</th>\n",
       "      <td>Sales Operator</td>\n",
       "      <td>Unknown</td>\n",
       "      <td>1187.0</td>\n",
       "      <td>314.0</td>\n",
       "    </tr>\n",
       "    <tr>\n",
       "      <th>2</th>\n",
       "      <td>TLS</td>\n",
       "      <td>BrandName</td>\n",
       "      <td>68.0</td>\n",
       "      <td>2.0</td>\n",
       "    </tr>\n",
       "    <tr>\n",
       "      <th>3</th>\n",
       "      <td>TLS</td>\n",
       "      <td>NoBrandName</td>\n",
       "      <td>1929.0</td>\n",
       "      <td>NaN</td>\n",
       "    </tr>\n",
       "    <tr>\n",
       "      <th>4</th>\n",
       "      <td>Web</td>\n",
       "      <td>Unknown</td>\n",
       "      <td>26.0</td>\n",
       "      <td>473.0</td>\n",
       "    </tr>\n",
       "  </tbody>\n",
       "</table>\n",
       "</div>"
      ],
      "text/plain": [
       "                      Channel   TypeOfCall LoanNumber       \n",
       "F_Undisbursed                                       0      1\n",
       "0                         App      Unknown      951.0   49.0\n",
       "1              Sales Operator      Unknown     1187.0  314.0\n",
       "2                         TLS    BrandName       68.0    2.0\n",
       "3                         TLS  NoBrandName     1929.0    NaN\n",
       "4                         Web      Unknown       26.0  473.0"
      ]
     },
     "execution_count": 77,
     "metadata": {},
     "output_type": "execute_result"
    }
   ],
   "source": [
    "df_BrandNameStatusStatement = pd.pivot_table(df_BrandNameStatus, \n",
    "                                             index=['Channel', 'TypeOfCall'],\n",
    "                                            columns=['F_Undisbursed'],\n",
    "                                            values=['LoanNumber'],\n",
    "                                            aggfunc='count').reset_index()\n",
    "df_BrandNameStatusStatement"
   ]
  },
  {
   "cell_type": "code",
   "execution_count": null,
   "metadata": {},
   "outputs": [],
   "source": []
  }
 ],
 "metadata": {
  "kernelspec": {
   "display_name": "base",
   "language": "python",
   "name": "python3"
  },
  "language_info": {
   "codemirror_mode": {
    "name": "ipython",
    "version": 3
   },
   "file_extension": ".py",
   "mimetype": "text/x-python",
   "name": "python",
   "nbconvert_exporter": "python",
   "pygments_lexer": "ipython3",
   "version": "3.9.12"
  },
  "orig_nbformat": 4
 },
 "nbformat": 4,
 "nbformat_minor": 2
}
