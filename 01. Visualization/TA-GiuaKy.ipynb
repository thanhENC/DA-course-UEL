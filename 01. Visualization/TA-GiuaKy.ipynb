{
 "cells": [
  {
   "attachments": {},
   "cell_type": "markdown",
   "metadata": {},
   "source": [
    "# **1. Import Modules**"
   ]
  },
  {
   "cell_type": "code",
   "execution_count": 1,
   "metadata": {},
   "outputs": [],
   "source": [
    "import pandas as pd\n",
    "import matplotlib.pyplot as plt\n",
    "import seaborn as sns"
   ]
  },
  {
   "attachments": {},
   "cell_type": "markdown",
   "metadata": {},
   "source": [
    "1.\tCreate KPIs\n",
    "-\tTotal Revenue = sum of Sales\n",
    "-\tTotal Profit = sum of Profit\n",
    "-\tProfit Ratio = Total Profit / Total Profit\n",
    "-\tCustomer = count distinct Customer\n",
    "-\tSales per Customer = Total Revenue/# Customer\n",
    "-\tQuantity: = sum of Quantity\n"
   ]
  },
  {
   "attachments": {},
   "cell_type": "markdown",
   "metadata": {},
   "source": [
    "# **2. Import Data**"
   ]
  },
  {
   "cell_type": "code",
   "execution_count": 2,
   "metadata": {},
   "outputs": [],
   "source": [
    "df = pd.read_excel('Data/Super-Store-2021.xlsx')"
   ]
  },
  {
   "cell_type": "code",
   "execution_count": 3,
   "metadata": {},
   "outputs": [
    {
     "data": {
      "text/html": [
       "<div>\n",
       "<style scoped>\n",
       "    .dataframe tbody tr th:only-of-type {\n",
       "        vertical-align: middle;\n",
       "    }\n",
       "\n",
       "    .dataframe tbody tr th {\n",
       "        vertical-align: top;\n",
       "    }\n",
       "\n",
       "    .dataframe thead th {\n",
       "        text-align: right;\n",
       "    }\n",
       "</style>\n",
       "<table border=\"1\" class=\"dataframe\">\n",
       "  <thead>\n",
       "    <tr style=\"text-align: right;\">\n",
       "      <th></th>\n",
       "      <th>Category</th>\n",
       "      <th>City</th>\n",
       "      <th>Country/Region</th>\n",
       "      <th>Customer ID</th>\n",
       "      <th>Customer Name</th>\n",
       "      <th>Order Date</th>\n",
       "      <th>Order ID</th>\n",
       "      <th>Postal Code</th>\n",
       "      <th>Product ID</th>\n",
       "      <th>Product Name</th>\n",
       "      <th>...</th>\n",
       "      <th>Ship Status</th>\n",
       "      <th>State</th>\n",
       "      <th>Sub-Category</th>\n",
       "      <th>Days to Ship Actual</th>\n",
       "      <th>Days to Ship Scheduled</th>\n",
       "      <th>Discount</th>\n",
       "      <th>Profit</th>\n",
       "      <th>Quantity</th>\n",
       "      <th>Sales</th>\n",
       "      <th>Sales Forecast</th>\n",
       "    </tr>\n",
       "  </thead>\n",
       "  <tbody>\n",
       "    <tr>\n",
       "      <th>0</th>\n",
       "      <td>Furniture</td>\n",
       "      <td>Henderson</td>\n",
       "      <td>United States</td>\n",
       "      <td>CG-12520</td>\n",
       "      <td>Claire Gute</td>\n",
       "      <td>2020-11-08</td>\n",
       "      <td>CA-2020-152156</td>\n",
       "      <td>42420.0</td>\n",
       "      <td>FUR-BO-10001798</td>\n",
       "      <td>Bush Somerset Collection Bookcase</td>\n",
       "      <td>...</td>\n",
       "      <td>Shipped On Time</td>\n",
       "      <td>Kentucky</td>\n",
       "      <td>Bookcases</td>\n",
       "      <td>3</td>\n",
       "      <td>3</td>\n",
       "      <td>0.00</td>\n",
       "      <td>42</td>\n",
       "      <td>2</td>\n",
       "      <td>262</td>\n",
       "      <td>392</td>\n",
       "    </tr>\n",
       "    <tr>\n",
       "      <th>1</th>\n",
       "      <td>Furniture</td>\n",
       "      <td>Henderson</td>\n",
       "      <td>United States</td>\n",
       "      <td>CG-12520</td>\n",
       "      <td>Claire Gute</td>\n",
       "      <td>2020-11-08</td>\n",
       "      <td>CA-2020-152156</td>\n",
       "      <td>42420.0</td>\n",
       "      <td>FUR-CH-10000454</td>\n",
       "      <td>Hon Deluxe Fabric Upholstered Stacking Chairs,...</td>\n",
       "      <td>...</td>\n",
       "      <td>Shipped On Time</td>\n",
       "      <td>Kentucky</td>\n",
       "      <td>Chairs</td>\n",
       "      <td>3</td>\n",
       "      <td>3</td>\n",
       "      <td>0.00</td>\n",
       "      <td>220</td>\n",
       "      <td>3</td>\n",
       "      <td>732</td>\n",
       "      <td>1096</td>\n",
       "    </tr>\n",
       "    <tr>\n",
       "      <th>2</th>\n",
       "      <td>Office Supplies</td>\n",
       "      <td>Los Angeles</td>\n",
       "      <td>United States</td>\n",
       "      <td>DV-13045</td>\n",
       "      <td>Darrin Van Huff</td>\n",
       "      <td>2020-06-12</td>\n",
       "      <td>CA-2020-138688</td>\n",
       "      <td>90036.0</td>\n",
       "      <td>OFF-LA-10000240</td>\n",
       "      <td>Self-Adhesive Address Labels for Typewriters b...</td>\n",
       "      <td>...</td>\n",
       "      <td>Shipped Late</td>\n",
       "      <td>California</td>\n",
       "      <td>Labels</td>\n",
       "      <td>4</td>\n",
       "      <td>3</td>\n",
       "      <td>0.00</td>\n",
       "      <td>7</td>\n",
       "      <td>2</td>\n",
       "      <td>15</td>\n",
       "      <td>22</td>\n",
       "    </tr>\n",
       "    <tr>\n",
       "      <th>3</th>\n",
       "      <td>Furniture</td>\n",
       "      <td>Fort Lauderdale</td>\n",
       "      <td>United States</td>\n",
       "      <td>SO-20335</td>\n",
       "      <td>Sean O'Donnell</td>\n",
       "      <td>2019-10-11</td>\n",
       "      <td>US-2019-108966</td>\n",
       "      <td>33311.0</td>\n",
       "      <td>FUR-TA-10000577</td>\n",
       "      <td>Bretford CR4500 Series Slim Rectangular Table</td>\n",
       "      <td>...</td>\n",
       "      <td>Shipped Late</td>\n",
       "      <td>Florida</td>\n",
       "      <td>Tables</td>\n",
       "      <td>7</td>\n",
       "      <td>6</td>\n",
       "      <td>0.45</td>\n",
       "      <td>-383</td>\n",
       "      <td>5</td>\n",
       "      <td>958</td>\n",
       "      <td>1434</td>\n",
       "    </tr>\n",
       "    <tr>\n",
       "      <th>4</th>\n",
       "      <td>Office Supplies</td>\n",
       "      <td>Fort Lauderdale</td>\n",
       "      <td>United States</td>\n",
       "      <td>SO-20335</td>\n",
       "      <td>Sean O'Donnell</td>\n",
       "      <td>2019-10-11</td>\n",
       "      <td>US-2019-108966</td>\n",
       "      <td>33311.0</td>\n",
       "      <td>OFF-ST-10000760</td>\n",
       "      <td>Eldon Fold 'N Roll Cart System</td>\n",
       "      <td>...</td>\n",
       "      <td>Shipped Late</td>\n",
       "      <td>Florida</td>\n",
       "      <td>Storage</td>\n",
       "      <td>7</td>\n",
       "      <td>6</td>\n",
       "      <td>0.20</td>\n",
       "      <td>3</td>\n",
       "      <td>2</td>\n",
       "      <td>22</td>\n",
       "      <td>33</td>\n",
       "    </tr>\n",
       "  </tbody>\n",
       "</table>\n",
       "<p>5 rows × 25 columns</p>\n",
       "</div>"
      ],
      "text/plain": [
       "          Category             City Country/Region Customer ID  \\\n",
       "0        Furniture        Henderson  United States    CG-12520   \n",
       "1        Furniture        Henderson  United States    CG-12520   \n",
       "2  Office Supplies      Los Angeles  United States    DV-13045   \n",
       "3        Furniture  Fort Lauderdale  United States    SO-20335   \n",
       "4  Office Supplies  Fort Lauderdale  United States    SO-20335   \n",
       "\n",
       "     Customer Name Order Date        Order ID  Postal Code       Product ID  \\\n",
       "0      Claire Gute 2020-11-08  CA-2020-152156      42420.0  FUR-BO-10001798   \n",
       "1      Claire Gute 2020-11-08  CA-2020-152156      42420.0  FUR-CH-10000454   \n",
       "2  Darrin Van Huff 2020-06-12  CA-2020-138688      90036.0  OFF-LA-10000240   \n",
       "3   Sean O'Donnell 2019-10-11  US-2019-108966      33311.0  FUR-TA-10000577   \n",
       "4   Sean O'Donnell 2019-10-11  US-2019-108966      33311.0  OFF-ST-10000760   \n",
       "\n",
       "                                        Product Name  ...      Ship Status  \\\n",
       "0                  Bush Somerset Collection Bookcase  ...  Shipped On Time   \n",
       "1  Hon Deluxe Fabric Upholstered Stacking Chairs,...  ...  Shipped On Time   \n",
       "2  Self-Adhesive Address Labels for Typewriters b...  ...     Shipped Late   \n",
       "3      Bretford CR4500 Series Slim Rectangular Table  ...     Shipped Late   \n",
       "4                     Eldon Fold 'N Roll Cart System  ...     Shipped Late   \n",
       "\n",
       "        State Sub-Category Days to Ship Actual Days to Ship Scheduled  \\\n",
       "0    Kentucky    Bookcases                   3                      3   \n",
       "1    Kentucky       Chairs                   3                      3   \n",
       "2  California       Labels                   4                      3   \n",
       "3     Florida       Tables                   7                      6   \n",
       "4     Florida      Storage                   7                      6   \n",
       "\n",
       "  Discount Profit Quantity  Sales  Sales Forecast  \n",
       "0     0.00     42        2    262             392  \n",
       "1     0.00    220        3    732            1096  \n",
       "2     0.00      7        2     15              22  \n",
       "3     0.45   -383        5    958            1434  \n",
       "4     0.20      3        2     22              33  \n",
       "\n",
       "[5 rows x 25 columns]"
      ]
     },
     "execution_count": 3,
     "metadata": {},
     "output_type": "execute_result"
    }
   ],
   "source": [
    "df.head()"
   ]
  },
  {
   "cell_type": "code",
   "execution_count": 8,
   "metadata": {},
   "outputs": [
    {
     "name": "stdout",
     "output_type": "stream",
     "text": [
      "<class 'pandas.core.frame.DataFrame'>\n",
      "RangeIndex: 9994 entries, 0 to 9993\n",
      "Data columns (total 25 columns):\n",
      " #   Column                  Non-Null Count  Dtype         \n",
      "---  ------                  --------------  -----         \n",
      " 0   Category                9994 non-null   object        \n",
      " 1   City                    9994 non-null   object        \n",
      " 2   Country/Region          9994 non-null   object        \n",
      " 3   Customer ID             9994 non-null   object        \n",
      " 4   Customer Name           9994 non-null   object        \n",
      " 5   Order Date              9994 non-null   datetime64[ns]\n",
      " 6   Order ID                9994 non-null   object        \n",
      " 7   Postal Code             9983 non-null   float64       \n",
      " 8   Product ID              9994 non-null   object        \n",
      " 9   Product Name            9994 non-null   object        \n",
      " 10  Region                  9994 non-null   object        \n",
      " 11  Row ID                  9994 non-null   int64         \n",
      " 12  Segment                 9994 non-null   object        \n",
      " 13  Ship Date               9994 non-null   datetime64[ns]\n",
      " 14  Ship Mode               9994 non-null   object        \n",
      " 15  Ship Status             9994 non-null   object        \n",
      " 16  State                   9994 non-null   object        \n",
      " 17  Sub-Category            9994 non-null   object        \n",
      " 18  Days to Ship Actual     9994 non-null   int64         \n",
      " 19  Days to Ship Scheduled  9994 non-null   int64         \n",
      " 20  Discount                9994 non-null   float64       \n",
      " 21  Profit                  9994 non-null   int64         \n",
      " 22  Quantity                9994 non-null   int64         \n",
      " 23  Sales                   9994 non-null   int64         \n",
      " 24  Sales Forecast          9994 non-null   int64         \n",
      "dtypes: datetime64[ns](2), float64(2), int64(7), object(14)\n",
      "memory usage: 1.9+ MB\n"
     ]
    }
   ],
   "source": [
    "df.info()"
   ]
  },
  {
   "attachments": {},
   "cell_type": "markdown",
   "metadata": {},
   "source": [
    "# **3. KPIs**"
   ]
  },
  {
   "cell_type": "code",
   "execution_count": 15,
   "metadata": {},
   "outputs": [
    {
     "data": {
      "text/plain": [
       "'$2,297,354'"
      ]
     },
     "execution_count": 15,
     "metadata": {},
     "output_type": "execute_result"
    }
   ],
   "source": [
    "#Total revenue = total sales\n",
    "\"${:,.0f}\".format(df['Sales'].sum())"
   ]
  },
  {
   "cell_type": "code",
   "execution_count": 10,
   "metadata": {},
   "outputs": [
    {
     "data": {
      "text/plain": [
       "'$286,347'"
      ]
     },
     "execution_count": 10,
     "metadata": {},
     "output_type": "execute_result"
    }
   ],
   "source": [
    "#Total profit = total profit\n",
    "\"${:,.0f}\".format(df['Profit'].sum())"
   ]
  },
  {
   "cell_type": "code",
   "execution_count": 11,
   "metadata": {},
   "outputs": [
    {
     "data": {
      "text/plain": [
       "'12.46%'"
      ]
     },
     "execution_count": 11,
     "metadata": {},
     "output_type": "execute_result"
    }
   ],
   "source": [
    "#Profit ratio = total profit / total revenue\n",
    "\"{:.2%}\".format(df['Profit'].sum()/df['Sales'].sum())"
   ]
  },
  {
   "cell_type": "code",
   "execution_count": 13,
   "metadata": {},
   "outputs": [
    {
     "data": {
      "text/plain": [
       "793"
      ]
     },
     "execution_count": 13,
     "metadata": {},
     "output_type": "execute_result"
    }
   ],
   "source": [
    "#Customer = count distinct customer\n",
    "df['Customer ID'].nunique()"
   ]
  },
  {
   "cell_type": "code",
   "execution_count": 19,
   "metadata": {},
   "outputs": [
    {
     "data": {
      "text/plain": [
       "'$2,897.0'"
      ]
     },
     "execution_count": 19,
     "metadata": {},
     "output_type": "execute_result"
    }
   ],
   "source": [
    "#Sales per Customer = Total revenue / Customer\n",
    "\"${:,.1f}\".format(df['Sales'].sum() / df['Customer ID'].nunique())"
   ]
  },
  {
   "cell_type": "code",
   "execution_count": 21,
   "metadata": {},
   "outputs": [
    {
     "data": {
      "text/plain": [
       "'37,873'"
      ]
     },
     "execution_count": 21,
     "metadata": {},
     "output_type": "execute_result"
    }
   ],
   "source": [
    "#Quantity = sum of Quantity\n",
    "\"{:,.0f}\".format(df['Quantity'].sum())"
   ]
  },
  {
   "attachments": {},
   "cell_type": "markdown",
   "metadata": {},
   "source": [
    "# **4. Visualization**"
   ]
  },
  {
   "attachments": {},
   "cell_type": "markdown",
   "metadata": {},
   "source": [
    "2.\tUsing bar chart to visualize Total Revenue/ Total Profit /# Customer/ Sales per Customer/ Quantity by Region. If you are the analyst, what should you comment based on this information."
   ]
  },
  {
   "attachments": {},
   "cell_type": "markdown",
   "metadata": {},
   "source": [
    "## Numerical Pre-processing"
   ]
  },
  {
   "cell_type": "code",
   "execution_count": 23,
   "metadata": {},
   "outputs": [
    {
     "data": {
      "text/plain": [
       "Index(['Category', 'City', 'Country/Region', 'Customer ID', 'Customer Name',\n",
       "       'Order Date', 'Order ID', 'Postal Code', 'Product ID', 'Product Name',\n",
       "       'Region', 'Row ID', 'Segment', 'Ship Date', 'Ship Mode', 'Ship Status',\n",
       "       'State', 'Sub-Category', 'Days to Ship Actual',\n",
       "       'Days to Ship Scheduled', 'Discount', 'Profit', 'Quantity', 'Sales',\n",
       "       'Sales Forecast'],\n",
       "      dtype='object')"
      ]
     },
     "execution_count": 23,
     "metadata": {},
     "output_type": "execute_result"
    }
   ],
   "source": [
    "df.columns"
   ]
  },
  {
   "cell_type": "code",
   "execution_count": 24,
   "metadata": {},
   "outputs": [
    {
     "data": {
      "text/html": [
       "<div>\n",
       "<style scoped>\n",
       "    .dataframe tbody tr th:only-of-type {\n",
       "        vertical-align: middle;\n",
       "    }\n",
       "\n",
       "    .dataframe tbody tr th {\n",
       "        vertical-align: top;\n",
       "    }\n",
       "\n",
       "    .dataframe thead th {\n",
       "        text-align: right;\n",
       "    }\n",
       "</style>\n",
       "<table border=\"1\" class=\"dataframe\">\n",
       "  <thead>\n",
       "    <tr style=\"text-align: right;\">\n",
       "      <th></th>\n",
       "      <th>Region</th>\n",
       "      <th>Revenue</th>\n",
       "      <th>Profit</th>\n",
       "      <th>No Customer</th>\n",
       "      <th>Quantity</th>\n",
       "    </tr>\n",
       "  </thead>\n",
       "  <tbody>\n",
       "    <tr>\n",
       "      <th>0</th>\n",
       "      <td>Central</td>\n",
       "      <td>501256</td>\n",
       "      <td>39719</td>\n",
       "      <td>629</td>\n",
       "      <td>8780</td>\n",
       "    </tr>\n",
       "    <tr>\n",
       "      <th>1</th>\n",
       "      <td>East</td>\n",
       "      <td>678834</td>\n",
       "      <td>91521</td>\n",
       "      <td>674</td>\n",
       "      <td>10618</td>\n",
       "    </tr>\n",
       "    <tr>\n",
       "      <th>2</th>\n",
       "      <td>South</td>\n",
       "      <td>391750</td>\n",
       "      <td>46721</td>\n",
       "      <td>512</td>\n",
       "      <td>6209</td>\n",
       "    </tr>\n",
       "    <tr>\n",
       "      <th>3</th>\n",
       "      <td>West</td>\n",
       "      <td>725514</td>\n",
       "      <td>108386</td>\n",
       "      <td>686</td>\n",
       "      <td>12266</td>\n",
       "    </tr>\n",
       "  </tbody>\n",
       "</table>\n",
       "</div>"
      ],
      "text/plain": [
       "    Region  Revenue  Profit  No Customer  Quantity\n",
       "0  Central   501256   39719          629      8780\n",
       "1     East   678834   91521          674     10618\n",
       "2    South   391750   46721          512      6209\n",
       "3     West   725514  108386          686     12266"
      ]
     },
     "execution_count": 24,
     "metadata": {},
     "output_type": "execute_result"
    }
   ],
   "source": [
    "df_region = pd.DataFrame({'Revenue': df.groupby('Region')['Sales'].sum(),\n",
    "                'Profit':df.groupby('Region')['Profit'].sum(),\n",
    "                'No Customer':df.groupby('Region')['Customer ID'].nunique(),\n",
    "                'Quantity':df.groupby('Region')['Quantity'].sum()\n",
    "            }).reset_index()\n",
    "df_region"
   ]
  },
  {
   "cell_type": "code",
   "execution_count": 25,
   "metadata": {},
   "outputs": [
    {
     "data": {
      "text/html": [
       "<div>\n",
       "<style scoped>\n",
       "    .dataframe tbody tr th:only-of-type {\n",
       "        vertical-align: middle;\n",
       "    }\n",
       "\n",
       "    .dataframe tbody tr th {\n",
       "        vertical-align: top;\n",
       "    }\n",
       "\n",
       "    .dataframe thead th {\n",
       "        text-align: right;\n",
       "    }\n",
       "</style>\n",
       "<table border=\"1\" class=\"dataframe\">\n",
       "  <thead>\n",
       "    <tr style=\"text-align: right;\">\n",
       "      <th></th>\n",
       "      <th>Region</th>\n",
       "      <th>Revenue</th>\n",
       "      <th>Profit</th>\n",
       "      <th>No Customer</th>\n",
       "      <th>Quantity</th>\n",
       "      <th>Sales per customer</th>\n",
       "    </tr>\n",
       "  </thead>\n",
       "  <tbody>\n",
       "    <tr>\n",
       "      <th>0</th>\n",
       "      <td>Central</td>\n",
       "      <td>501256</td>\n",
       "      <td>39719</td>\n",
       "      <td>629</td>\n",
       "      <td>8780</td>\n",
       "      <td>796.909380</td>\n",
       "    </tr>\n",
       "    <tr>\n",
       "      <th>1</th>\n",
       "      <td>East</td>\n",
       "      <td>678834</td>\n",
       "      <td>91521</td>\n",
       "      <td>674</td>\n",
       "      <td>10618</td>\n",
       "      <td>1007.172107</td>\n",
       "    </tr>\n",
       "    <tr>\n",
       "      <th>2</th>\n",
       "      <td>South</td>\n",
       "      <td>391750</td>\n",
       "      <td>46721</td>\n",
       "      <td>512</td>\n",
       "      <td>6209</td>\n",
       "      <td>765.136719</td>\n",
       "    </tr>\n",
       "    <tr>\n",
       "      <th>3</th>\n",
       "      <td>West</td>\n",
       "      <td>725514</td>\n",
       "      <td>108386</td>\n",
       "      <td>686</td>\n",
       "      <td>12266</td>\n",
       "      <td>1057.600583</td>\n",
       "    </tr>\n",
       "  </tbody>\n",
       "</table>\n",
       "</div>"
      ],
      "text/plain": [
       "    Region  Revenue  Profit  No Customer  Quantity  Sales per customer\n",
       "0  Central   501256   39719          629      8780          796.909380\n",
       "1     East   678834   91521          674     10618         1007.172107\n",
       "2    South   391750   46721          512      6209          765.136719\n",
       "3     West   725514  108386          686     12266         1057.600583"
      ]
     },
     "execution_count": 25,
     "metadata": {},
     "output_type": "execute_result"
    }
   ],
   "source": [
    "df_region['Sales per customer'] = df_region['Revenue'] / df_region['No Customer']\n",
    "df_region"
   ]
  },
  {
   "attachments": {},
   "cell_type": "markdown",
   "metadata": {},
   "source": [
    "## Visualizing"
   ]
  },
  {
   "cell_type": "code",
   "execution_count": 32,
   "metadata": {},
   "outputs": [
    {
     "data": {
      "text/plain": [
       "<BarContainer object of 4 artists>"
      ]
     },
     "execution_count": 32,
     "metadata": {},
     "output_type": "execute_result"
    },
    {
     "data": {
      "image/png": "[encoded data removed]",
      "text/plain": [
       "<Figure size 1800x360 with 5 Axes>"
      ]
     },
     "metadata": {
      "needs_background": "light"
     },
     "output_type": "display_data"
    }
   ],
   "source": [
    "fig, ax = plt.subplots(ncols=5, figsize=(25, 5))\n",
    "ax[0].bar(df_region['Region'], df_region['Revenue'])\n",
    "ax[0].set(ylabel='Revenue ($)', xlabel='Region', title='Revenue by Region')\n",
    "\n",
    "ax[1].bar(df_region['Region'], df_region['Profit'])\n",
    "\n",
    "ax[2].bar(df_region['Region'], df_region['No Customer'])\n",
    "\n",
    "ax[3].bar(df_region['Region'], df_region['Quantity'])\n",
    "\n",
    "ax[4].bar(df_region['Region'], df_region['Sales per customer'])\n"
   ]
  },
  {
   "cell_type": "code",
   "execution_count": null,
   "metadata": {},
   "outputs": [],
   "source": []
  }
 ],
 "metadata": {
  "kernelspec": {
   "display_name": "base",
   "language": "python",
   "name": "python3"
  },
  "language_info": {
   "codemirror_mode": {
    "name": "ipython",
    "version": 3
   },
   "file_extension": ".py",
   "mimetype": "text/x-python",
   "name": "python",
   "nbconvert_exporter": "python",
   "pygments_lexer": "ipython3",
   "version": "3.9.12"
  },
  "orig_nbformat": 4
 },
 "nbformat": 4,
 "nbformat_minor": 2
}
