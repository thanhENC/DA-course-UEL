{
 "cells": [
  {
   "attachments": {},
   "cell_type": "markdown",
   "metadata": {},
   "source": [
    "# **1. Import Data**"
   ]
  },
  {
   "cell_type": "code",
   "execution_count": 1,
   "metadata": {},
   "outputs": [],
   "source": [
    "import pandas as pd\n",
    "import numpy as np\n",
    "import matplotlib.pyplot as plt\n",
    "import seaborn as sns"
   ]
  },
  {
   "attachments": {},
   "cell_type": "markdown",
   "metadata": {},
   "source": [
    "# **2. Import Data**"
   ]
  },
  {
   "cell_type": "code",
   "execution_count": 2,
   "metadata": {},
   "outputs": [],
   "source": [
    "filePath = 'Data/Super-Store-2021.xlsx'"
   ]
  },
  {
   "cell_type": "code",
   "execution_count": 3,
   "metadata": {},
   "outputs": [],
   "source": [
    "df = pd.read_excel(filePath)"
   ]
  },
  {
   "cell_type": "code",
   "execution_count": 4,
   "metadata": {},
   "outputs": [
    {
     "name": "stdout",
     "output_type": "stream",
     "text": [
      "<class 'pandas.core.frame.DataFrame'>\n",
      "RangeIndex: 9994 entries, 0 to 9993\n",
      "Data columns (total 25 columns):\n",
      " #   Column                  Non-Null Count  Dtype         \n",
      "---  ------                  --------------  -----         \n",
      " 0   Category                9994 non-null   object        \n",
      " 1   City                    9994 non-null   object        \n",
      " 2   Country/Region          9994 non-null   object        \n",
      " 3   Customer ID             9994 non-null   object        \n",
      " 4   Customer Name           9994 non-null   object        \n",
      " 5   Order Date              9994 non-null   datetime64[ns]\n",
      " 6   Order ID                9994 non-null   object        \n",
      " 7   Postal Code             9983 non-null   float64       \n",
      " 8   Product ID              9994 non-null   object        \n",
      " 9   Product Name            9994 non-null   object        \n",
      " 10  Region                  9994 non-null   object        \n",
      " 11  Row ID                  9994 non-null   int64         \n",
      " 12  Segment                 9994 non-null   object        \n",
      " 13  Ship Date               9994 non-null   datetime64[ns]\n",
      " 14  Ship Mode               9994 non-null   object        \n",
      " 15  Ship Status             9994 non-null   object        \n",
      " 16  State                   9994 non-null   object        \n",
      " 17  Sub-Category            9994 non-null   object        \n",
      " 18  Days to Ship Actual     9994 non-null   int64         \n",
      " 19  Days to Ship Scheduled  9994 non-null   int64         \n",
      " 20  Discount                9994 non-null   float64       \n",
      " 21  Profit                  9994 non-null   int64         \n",
      " 22  Quantity                9994 non-null   int64         \n",
      " 23  Sales                   9994 non-null   int64         \n",
      " 24  Sales Forecast          9994 non-null   int64         \n",
      "dtypes: datetime64[ns](2), float64(2), int64(7), object(14)\n",
      "memory usage: 1.9+ MB\n"
     ]
    },
    {
     "data": {
      "text/html": [
       "<div>\n",
       "<style scoped>\n",
       "    .dataframe tbody tr th:only-of-type {\n",
       "        vertical-align: middle;\n",
       "    }\n",
       "\n",
       "    .dataframe tbody tr th {\n",
       "        vertical-align: top;\n",
       "    }\n",
       "\n",
       "    .dataframe thead th {\n",
       "        text-align: right;\n",
       "    }\n",
       "</style>\n",
       "<table border=\"1\" class=\"dataframe\">\n",
       "  <thead>\n",
       "    <tr style=\"text-align: right;\">\n",
       "      <th></th>\n",
       "      <th>Category</th>\n",
       "      <th>City</th>\n",
       "      <th>Country/Region</th>\n",
       "      <th>Customer ID</th>\n",
       "      <th>Customer Name</th>\n",
       "      <th>Order Date</th>\n",
       "      <th>Order ID</th>\n",
       "      <th>Postal Code</th>\n",
       "      <th>Product ID</th>\n",
       "      <th>Product Name</th>\n",
       "      <th>...</th>\n",
       "      <th>Ship Status</th>\n",
       "      <th>State</th>\n",
       "      <th>Sub-Category</th>\n",
       "      <th>Days to Ship Actual</th>\n",
       "      <th>Days to Ship Scheduled</th>\n",
       "      <th>Discount</th>\n",
       "      <th>Profit</th>\n",
       "      <th>Quantity</th>\n",
       "      <th>Sales</th>\n",
       "      <th>Sales Forecast</th>\n",
       "    </tr>\n",
       "  </thead>\n",
       "  <tbody>\n",
       "    <tr>\n",
       "      <th>0</th>\n",
       "      <td>Furniture</td>\n",
       "      <td>Henderson</td>\n",
       "      <td>United States</td>\n",
       "      <td>CG-12520</td>\n",
       "      <td>Claire Gute</td>\n",
       "      <td>2020-11-08</td>\n",
       "      <td>CA-2020-152156</td>\n",
       "      <td>42420.0</td>\n",
       "      <td>FUR-BO-10001798</td>\n",
       "      <td>Bush Somerset Collection Bookcase</td>\n",
       "      <td>...</td>\n",
       "      <td>Shipped On Time</td>\n",
       "      <td>Kentucky</td>\n",
       "      <td>Bookcases</td>\n",
       "      <td>3</td>\n",
       "      <td>3</td>\n",
       "      <td>0.00</td>\n",
       "      <td>42</td>\n",
       "      <td>2</td>\n",
       "      <td>262</td>\n",
       "      <td>392</td>\n",
       "    </tr>\n",
       "    <tr>\n",
       "      <th>1</th>\n",
       "      <td>Furniture</td>\n",
       "      <td>Henderson</td>\n",
       "      <td>United States</td>\n",
       "      <td>CG-12520</td>\n",
       "      <td>Claire Gute</td>\n",
       "      <td>2020-11-08</td>\n",
       "      <td>CA-2020-152156</td>\n",
       "      <td>42420.0</td>\n",
       "      <td>FUR-CH-10000454</td>\n",
       "      <td>Hon Deluxe Fabric Upholstered Stacking Chairs,...</td>\n",
       "      <td>...</td>\n",
       "      <td>Shipped On Time</td>\n",
       "      <td>Kentucky</td>\n",
       "      <td>Chairs</td>\n",
       "      <td>3</td>\n",
       "      <td>3</td>\n",
       "      <td>0.00</td>\n",
       "      <td>220</td>\n",
       "      <td>3</td>\n",
       "      <td>732</td>\n",
       "      <td>1096</td>\n",
       "    </tr>\n",
       "    <tr>\n",
       "      <th>2</th>\n",
       "      <td>Office Supplies</td>\n",
       "      <td>Los Angeles</td>\n",
       "      <td>United States</td>\n",
       "      <td>DV-13045</td>\n",
       "      <td>Darrin Van Huff</td>\n",
       "      <td>2020-06-12</td>\n",
       "      <td>CA-2020-138688</td>\n",
       "      <td>90036.0</td>\n",
       "      <td>OFF-LA-10000240</td>\n",
       "      <td>Self-Adhesive Address Labels for Typewriters b...</td>\n",
       "      <td>...</td>\n",
       "      <td>Shipped Late</td>\n",
       "      <td>California</td>\n",
       "      <td>Labels</td>\n",
       "      <td>4</td>\n",
       "      <td>3</td>\n",
       "      <td>0.00</td>\n",
       "      <td>7</td>\n",
       "      <td>2</td>\n",
       "      <td>15</td>\n",
       "      <td>22</td>\n",
       "    </tr>\n",
       "    <tr>\n",
       "      <th>3</th>\n",
       "      <td>Furniture</td>\n",
       "      <td>Fort Lauderdale</td>\n",
       "      <td>United States</td>\n",
       "      <td>SO-20335</td>\n",
       "      <td>Sean O'Donnell</td>\n",
       "      <td>2019-10-11</td>\n",
       "      <td>US-2019-108966</td>\n",
       "      <td>33311.0</td>\n",
       "      <td>FUR-TA-10000577</td>\n",
       "      <td>Bretford CR4500 Series Slim Rectangular Table</td>\n",
       "      <td>...</td>\n",
       "      <td>Shipped Late</td>\n",
       "      <td>Florida</td>\n",
       "      <td>Tables</td>\n",
       "      <td>7</td>\n",
       "      <td>6</td>\n",
       "      <td>0.45</td>\n",
       "      <td>-383</td>\n",
       "      <td>5</td>\n",
       "      <td>958</td>\n",
       "      <td>1434</td>\n",
       "    </tr>\n",
       "    <tr>\n",
       "      <th>4</th>\n",
       "      <td>Office Supplies</td>\n",
       "      <td>Fort Lauderdale</td>\n",
       "      <td>United States</td>\n",
       "      <td>SO-20335</td>\n",
       "      <td>Sean O'Donnell</td>\n",
       "      <td>2019-10-11</td>\n",
       "      <td>US-2019-108966</td>\n",
       "      <td>33311.0</td>\n",
       "      <td>OFF-ST-10000760</td>\n",
       "      <td>Eldon Fold 'N Roll Cart System</td>\n",
       "      <td>...</td>\n",
       "      <td>Shipped Late</td>\n",
       "      <td>Florida</td>\n",
       "      <td>Storage</td>\n",
       "      <td>7</td>\n",
       "      <td>6</td>\n",
       "      <td>0.20</td>\n",
       "      <td>3</td>\n",
       "      <td>2</td>\n",
       "      <td>22</td>\n",
       "      <td>33</td>\n",
       "    </tr>\n",
       "  </tbody>\n",
       "</table>\n",
       "<p>5 rows × 25 columns</p>\n",
       "</div>"
      ],
      "text/plain": [
       "          Category             City Country/Region Customer ID  \\\n",
       "0        Furniture        Henderson  United States    CG-12520   \n",
       "1        Furniture        Henderson  United States    CG-12520   \n",
       "2  Office Supplies      Los Angeles  United States    DV-13045   \n",
       "3        Furniture  Fort Lauderdale  United States    SO-20335   \n",
       "4  Office Supplies  Fort Lauderdale  United States    SO-20335   \n",
       "\n",
       "     Customer Name Order Date        Order ID  Postal Code       Product ID  \\\n",
       "0      Claire Gute 2020-11-08  CA-2020-152156      42420.0  FUR-BO-10001798   \n",
       "1      Claire Gute 2020-11-08  CA-2020-152156      42420.0  FUR-CH-10000454   \n",
       "2  Darrin Van Huff 2020-06-12  CA-2020-138688      90036.0  OFF-LA-10000240   \n",
       "3   Sean O'Donnell 2019-10-11  US-2019-108966      33311.0  FUR-TA-10000577   \n",
       "4   Sean O'Donnell 2019-10-11  US-2019-108966      33311.0  OFF-ST-10000760   \n",
       "\n",
       "                                        Product Name  ...      Ship Status  \\\n",
       "0                  Bush Somerset Collection Bookcase  ...  Shipped On Time   \n",
       "1  Hon Deluxe Fabric Upholstered Stacking Chairs,...  ...  Shipped On Time   \n",
       "2  Self-Adhesive Address Labels for Typewriters b...  ...     Shipped Late   \n",
       "3      Bretford CR4500 Series Slim Rectangular Table  ...     Shipped Late   \n",
       "4                     Eldon Fold 'N Roll Cart System  ...     Shipped Late   \n",
       "\n",
       "        State Sub-Category Days to Ship Actual Days to Ship Scheduled  \\\n",
       "0    Kentucky    Bookcases                   3                      3   \n",
       "1    Kentucky       Chairs                   3                      3   \n",
       "2  California       Labels                   4                      3   \n",
       "3     Florida       Tables                   7                      6   \n",
       "4     Florida      Storage                   7                      6   \n",
       "\n",
       "  Discount Profit Quantity  Sales  Sales Forecast  \n",
       "0     0.00     42        2    262             392  \n",
       "1     0.00    220        3    732            1096  \n",
       "2     0.00      7        2     15              22  \n",
       "3     0.45   -383        5    958            1434  \n",
       "4     0.20      3        2     22              33  \n",
       "\n",
       "[5 rows x 25 columns]"
      ]
     },
     "execution_count": 4,
     "metadata": {},
     "output_type": "execute_result"
    }
   ],
   "source": [
    "df.info()\n",
    "df.head()"
   ]
  },
  {
   "attachments": {},
   "cell_type": "markdown",
   "metadata": {},
   "source": [
    "# **3. Practice**"
   ]
  },
  {
   "attachments": {},
   "cell_type": "markdown",
   "metadata": {},
   "source": [
    "## **3.1. KPI**"
   ]
  },
  {
   "cell_type": "code",
   "execution_count": 5,
   "metadata": {},
   "outputs": [
    {
     "data": {
      "text/plain": [
       "'$2,297,354'"
      ]
     },
     "execution_count": 5,
     "metadata": {},
     "output_type": "execute_result"
    }
   ],
   "source": [
    "#Total revenue = sum of Sales\n",
    "total_revenue = df['Sales'].sum()\n",
    "\"${:,.0f}\".format(total_revenue)"
   ]
  },
  {
   "cell_type": "code",
   "execution_count": 8,
   "metadata": {},
   "outputs": [
    {
     "data": {
      "text/plain": [
       "'$286,347'"
      ]
     },
     "execution_count": 8,
     "metadata": {},
     "output_type": "execute_result"
    }
   ],
   "source": [
    "#Total profit = sum of Profit\n",
    "total_profit = df['Profit'].sum()\n",
    "\"${:,.0f}\".format(total_profit)"
   ]
  },
  {
   "cell_type": "code",
   "execution_count": 10,
   "metadata": {},
   "outputs": [
    {
     "data": {
      "text/plain": [
       "'12.5%'"
      ]
     },
     "execution_count": 10,
     "metadata": {},
     "output_type": "execute_result"
    }
   ],
   "source": [
    "#Profit ratio = total profit / total revenue\n",
    "profit_ratio = total_profit/total_revenue\n",
    "\"{:,.1f}%\".format(profit_ratio*100)"
   ]
  },
  {
   "cell_type": "code",
   "execution_count": 13,
   "metadata": {},
   "outputs": [
    {
     "data": {
      "text/plain": [
       "'793 unique customers'"
      ]
     },
     "execution_count": 13,
     "metadata": {},
     "output_type": "execute_result"
    }
   ],
   "source": [
    "#Count distinct Customer\n",
    "number_customers = df['Customer ID'].nunique()\n",
    "\"{:,.0f} unique customers\".format(number_customers)"
   ]
  },
  {
   "cell_type": "code",
   "execution_count": 14,
   "metadata": {},
   "outputs": [
    {
     "data": {
      "text/plain": [
       "'$2,897.04 per customer'"
      ]
     },
     "execution_count": 14,
     "metadata": {},
     "output_type": "execute_result"
    }
   ],
   "source": [
    "#Sale per customer = total revenue / #customer\n",
    "sale_per_customer = total_revenue / number_customers\n",
    "\"${:,.2f} per customer\".format(sale_per_customer)"
   ]
  },
  {
   "cell_type": "code",
   "execution_count": 15,
   "metadata": {},
   "outputs": [
    {
     "data": {
      "text/plain": [
       "'37,873 items'"
      ]
     },
     "execution_count": 15,
     "metadata": {},
     "output_type": "execute_result"
    }
   ],
   "source": [
    "# #Quantity = sum of quantity\n",
    "number_of_quantity = df['Quantity'].sum()\n",
    "\"{:,.0f} items\".format(number_of_quantity)"
   ]
  },
  {
   "attachments": {},
   "cell_type": "markdown",
   "metadata": {},
   "source": [
    "## **3.1. Performance by Region**"
   ]
  },
  {
   "attachments": {},
   "cell_type": "markdown",
   "metadata": {},
   "source": [
    "### 3.1.1. Extracting Data"
   ]
  },
  {
   "cell_type": "code",
   "execution_count": 40,
   "metadata": {},
   "outputs": [
    {
     "data": {
      "text/html": [
       "<div>\n",
       "<style scoped>\n",
       "    .dataframe tbody tr th:only-of-type {\n",
       "        vertical-align: middle;\n",
       "    }\n",
       "\n",
       "    .dataframe tbody tr th {\n",
       "        vertical-align: top;\n",
       "    }\n",
       "\n",
       "    .dataframe thead th {\n",
       "        text-align: right;\n",
       "    }\n",
       "</style>\n",
       "<table border=\"1\" class=\"dataframe\">\n",
       "  <thead>\n",
       "    <tr style=\"text-align: right;\">\n",
       "      <th></th>\n",
       "      <th>Region</th>\n",
       "      <th>Revenue</th>\n",
       "      <th>Profit</th>\n",
       "      <th>No. Customer</th>\n",
       "      <th>Quantity</th>\n",
       "    </tr>\n",
       "  </thead>\n",
       "  <tbody>\n",
       "    <tr>\n",
       "      <th>0</th>\n",
       "      <td>Central</td>\n",
       "      <td>501256</td>\n",
       "      <td>39719</td>\n",
       "      <td>629</td>\n",
       "      <td>8780</td>\n",
       "    </tr>\n",
       "    <tr>\n",
       "      <th>1</th>\n",
       "      <td>East</td>\n",
       "      <td>678834</td>\n",
       "      <td>91521</td>\n",
       "      <td>674</td>\n",
       "      <td>10618</td>\n",
       "    </tr>\n",
       "    <tr>\n",
       "      <th>2</th>\n",
       "      <td>South</td>\n",
       "      <td>391750</td>\n",
       "      <td>46721</td>\n",
       "      <td>512</td>\n",
       "      <td>6209</td>\n",
       "    </tr>\n",
       "    <tr>\n",
       "      <th>3</th>\n",
       "      <td>West</td>\n",
       "      <td>725514</td>\n",
       "      <td>108386</td>\n",
       "      <td>686</td>\n",
       "      <td>12266</td>\n",
       "    </tr>\n",
       "  </tbody>\n",
       "</table>\n",
       "</div>"
      ],
      "text/plain": [
       "    Region  Revenue  Profit  No. Customer  Quantity\n",
       "0  Central   501256   39719           629      8780\n",
       "1     East   678834   91521           674     10618\n",
       "2    South   391750   46721           512      6209\n",
       "3     West   725514  108386           686     12266"
      ]
     },
     "execution_count": 40,
     "metadata": {},
     "output_type": "execute_result"
    }
   ],
   "source": [
    "# df_region = pd.DataFrame({ 'Revenue': df.groupby('Region')['Sales'].sum(),\n",
    "#                             'Profit': df.groupby('Region')['Profit'].sum(),\n",
    "#                             'Customer': df.groupby('Region')['Customer ID'].nunique(),\n",
    "#                             'Quantity': df.groupby('Region')['Quantity'].sum()\n",
    "#                         })\n",
    "\n",
    "df_region = df.groupby('Region').agg({'Sales':'sum',\n",
    "                                      'Profit':'sum',\n",
    "                                      'Customer ID': 'nunique',\n",
    "                                      'Quantity': 'sum'})\n",
    "df_region.reset_index(inplace=True)\n",
    "\n",
    "#change columns name\n",
    "#method 1\n",
    "# df_region.columns = ['Region', 'Revenue', 'Profit', 'No. Customer', 'Quantity']\n",
    "#method 2\n",
    "df_region.rename(columns={'Sales':'Revenue', 'Customer ID': 'No. Customer'}, inplace=True)\n",
    "\n",
    "df_region"
   ]
  },
  {
   "cell_type": "code",
   "execution_count": 42,
   "metadata": {},
   "outputs": [
    {
     "data": {
      "text/html": [
       "<div>\n",
       "<style scoped>\n",
       "    .dataframe tbody tr th:only-of-type {\n",
       "        vertical-align: middle;\n",
       "    }\n",
       "\n",
       "    .dataframe tbody tr th {\n",
       "        vertical-align: top;\n",
       "    }\n",
       "\n",
       "    .dataframe thead th {\n",
       "        text-align: right;\n",
       "    }\n",
       "</style>\n",
       "<table border=\"1\" class=\"dataframe\">\n",
       "  <thead>\n",
       "    <tr style=\"text-align: right;\">\n",
       "      <th></th>\n",
       "      <th>Region</th>\n",
       "      <th>Revenue</th>\n",
       "      <th>Profit</th>\n",
       "      <th>No. Customer</th>\n",
       "      <th>Quantity</th>\n",
       "      <th>Sales per Customer</th>\n",
       "    </tr>\n",
       "  </thead>\n",
       "  <tbody>\n",
       "    <tr>\n",
       "      <th>0</th>\n",
       "      <td>Central</td>\n",
       "      <td>501256</td>\n",
       "      <td>39719</td>\n",
       "      <td>629</td>\n",
       "      <td>8780</td>\n",
       "      <td>796.909380</td>\n",
       "    </tr>\n",
       "    <tr>\n",
       "      <th>1</th>\n",
       "      <td>East</td>\n",
       "      <td>678834</td>\n",
       "      <td>91521</td>\n",
       "      <td>674</td>\n",
       "      <td>10618</td>\n",
       "      <td>1007.172107</td>\n",
       "    </tr>\n",
       "    <tr>\n",
       "      <th>2</th>\n",
       "      <td>South</td>\n",
       "      <td>391750</td>\n",
       "      <td>46721</td>\n",
       "      <td>512</td>\n",
       "      <td>6209</td>\n",
       "      <td>765.136719</td>\n",
       "    </tr>\n",
       "    <tr>\n",
       "      <th>3</th>\n",
       "      <td>West</td>\n",
       "      <td>725514</td>\n",
       "      <td>108386</td>\n",
       "      <td>686</td>\n",
       "      <td>12266</td>\n",
       "      <td>1057.600583</td>\n",
       "    </tr>\n",
       "  </tbody>\n",
       "</table>\n",
       "</div>"
      ],
      "text/plain": [
       "    Region  Revenue  Profit  No. Customer  Quantity  Sales per Customer\n",
       "0  Central   501256   39719           629      8780          796.909380\n",
       "1     East   678834   91521           674     10618         1007.172107\n",
       "2    South   391750   46721           512      6209          765.136719\n",
       "3     West   725514  108386           686     12266         1057.600583"
      ]
     },
     "execution_count": 42,
     "metadata": {},
     "output_type": "execute_result"
    }
   ],
   "source": [
    "df_region['Sales per Customer'] = df_region['Revenue'] / df_region['No. Customer']\n",
    "df_region"
   ]
  },
  {
   "attachments": {},
   "cell_type": "markdown",
   "metadata": {},
   "source": [
    "### 3.1.2. Visualization"
   ]
  },
  {
   "cell_type": "code",
   "execution_count": 43,
   "metadata": {},
   "outputs": [
    {
     "data": {
      "image/png": "[encoded data removed]",
      "text/plain": [
       "<Figure size 1800x576 with 5 Axes>"
      ]
     },
     "metadata": {
      "needs_background": "light"
     },
     "output_type": "display_data"
    }
   ],
   "source": [
    "fig, ax = plt.subplots(ncols=5, figsize=(25,8))\n",
    "\n",
    "ax[0].bar(df_region['Region'], df_region['Revenue'])\n",
    "ax[0].set(xlabel='Region', ylabel='Revenue', title='Revenue by Region')\n",
    "\n",
    "ax[1].bar(df_region['Region'], df_region['Profit'])\n",
    "ax[1].set(xlabel='Region', ylabel='Profit', title='Profit by Region')\n",
    "\n",
    "ax[2].bar(df_region['Region'], df_region['No. Customer'])\n",
    "ax[2].set(xlabel='Region', ylabel='Number of Customer', title='Number of Customer by Region')\n",
    "\n",
    "ax[3].bar(df_region['Region'], df_region['Quantity'])\n",
    "ax[3].set(xlabel='Region', ylabel='Quantity', title='Quantity by Region')\n",
    "\n",
    "ax[4].bar(df_region['Region'], df_region['Sales per Customer'])\n",
    "ax[4].set(xlabel='Region', ylabel='Sales per Customer', title='Sales per Customer by Region')\n",
    "\n",
    "plt.show()"
   ]
  },
  {
   "attachments": {},
   "cell_type": "markdown",
   "metadata": {},
   "source": [
    "### **3.2. Pivot Table by Ship Mode**"
   ]
  },
  {
   "cell_type": "code",
   "execution_count": 44,
   "metadata": {},
   "outputs": [
    {
     "data": {
      "text/plain": [
       "Index(['Category', 'City', 'Country/Region', 'Customer ID', 'Customer Name',\n",
       "       'Order Date', 'Order ID', 'Postal Code', 'Product ID', 'Product Name',\n",
       "       'Region', 'Row ID', 'Segment', 'Ship Date', 'Ship Mode', 'Ship Status',\n",
       "       'State', 'Sub-Category', 'Days to Ship Actual',\n",
       "       'Days to Ship Scheduled', 'Discount', 'Profit', 'Quantity', 'Sales',\n",
       "       'Sales Forecast'],\n",
       "      dtype='object')"
      ]
     },
     "execution_count": 44,
     "metadata": {},
     "output_type": "execute_result"
    }
   ],
   "source": [
    "df.columns"
   ]
  },
  {
   "cell_type": "code",
   "execution_count": 61,
   "metadata": {},
   "outputs": [
    {
     "data": {
      "text/html": [
       "<div>\n",
       "<style scoped>\n",
       "    .dataframe tbody tr th:only-of-type {\n",
       "        vertical-align: middle;\n",
       "    }\n",
       "\n",
       "    .dataframe tbody tr th {\n",
       "        vertical-align: top;\n",
       "    }\n",
       "\n",
       "    .dataframe thead th {\n",
       "        text-align: right;\n",
       "    }\n",
       "</style>\n",
       "<table border=\"1\" class=\"dataframe\">\n",
       "  <thead>\n",
       "    <tr style=\"text-align: right;\">\n",
       "      <th></th>\n",
       "      <th>Order ID</th>\n",
       "      <th>Customer ID</th>\n",
       "      <th>Order Date</th>\n",
       "      <th>Ship Date</th>\n",
       "      <th>Ship Mode</th>\n",
       "      <th>Days to Ship Actual</th>\n",
       "      <th>Days to Ship Scheduled</th>\n",
       "      <th>Discount</th>\n",
       "      <th>Profit</th>\n",
       "      <th>Quantity</th>\n",
       "      <th>Sales</th>\n",
       "      <th>Profit Ratio</th>\n",
       "    </tr>\n",
       "  </thead>\n",
       "  <tbody>\n",
       "    <tr>\n",
       "      <th>0</th>\n",
       "      <td>CA-2018-100006</td>\n",
       "      <td>DK-13375</td>\n",
       "      <td>2018-09-07</td>\n",
       "      <td>2018-09-13</td>\n",
       "      <td>Standard Class</td>\n",
       "      <td>6</td>\n",
       "      <td>6</td>\n",
       "      <td>0.000000</td>\n",
       "      <td>110</td>\n",
       "      <td>3</td>\n",
       "      <td>378</td>\n",
       "      <td>0.291005</td>\n",
       "    </tr>\n",
       "    <tr>\n",
       "      <th>1</th>\n",
       "      <td>CA-2018-100090</td>\n",
       "      <td>EB-13705</td>\n",
       "      <td>2018-07-08</td>\n",
       "      <td>2018-07-12</td>\n",
       "      <td>Standard Class</td>\n",
       "      <td>4</td>\n",
       "      <td>6</td>\n",
       "      <td>0.200000</td>\n",
       "      <td>-19</td>\n",
       "      <td>9</td>\n",
       "      <td>699</td>\n",
       "      <td>-0.027182</td>\n",
       "    </tr>\n",
       "    <tr>\n",
       "      <th>2</th>\n",
       "      <td>CA-2018-100293</td>\n",
       "      <td>NF-18475</td>\n",
       "      <td>2018-03-14</td>\n",
       "      <td>2018-03-18</td>\n",
       "      <td>Standard Class</td>\n",
       "      <td>4</td>\n",
       "      <td>6</td>\n",
       "      <td>0.200000</td>\n",
       "      <td>32</td>\n",
       "      <td>6</td>\n",
       "      <td>91</td>\n",
       "      <td>0.351648</td>\n",
       "    </tr>\n",
       "    <tr>\n",
       "      <th>3</th>\n",
       "      <td>CA-2018-100328</td>\n",
       "      <td>JC-15340</td>\n",
       "      <td>2018-01-28</td>\n",
       "      <td>2018-02-03</td>\n",
       "      <td>Standard Class</td>\n",
       "      <td>6</td>\n",
       "      <td>6</td>\n",
       "      <td>0.200000</td>\n",
       "      <td>1</td>\n",
       "      <td>1</td>\n",
       "      <td>4</td>\n",
       "      <td>0.250000</td>\n",
       "    </tr>\n",
       "    <tr>\n",
       "      <th>4</th>\n",
       "      <td>CA-2018-100363</td>\n",
       "      <td>JM-15655</td>\n",
       "      <td>2018-04-08</td>\n",
       "      <td>2018-04-15</td>\n",
       "      <td>Standard Class</td>\n",
       "      <td>7</td>\n",
       "      <td>6</td>\n",
       "      <td>0.200000</td>\n",
       "      <td>8</td>\n",
       "      <td>5</td>\n",
       "      <td>21</td>\n",
       "      <td>0.380952</td>\n",
       "    </tr>\n",
       "    <tr>\n",
       "      <th>...</th>\n",
       "      <td>...</td>\n",
       "      <td>...</td>\n",
       "      <td>...</td>\n",
       "      <td>...</td>\n",
       "      <td>...</td>\n",
       "      <td>...</td>\n",
       "      <td>...</td>\n",
       "      <td>...</td>\n",
       "      <td>...</td>\n",
       "      <td>...</td>\n",
       "      <td>...</td>\n",
       "      <td>...</td>\n",
       "    </tr>\n",
       "    <tr>\n",
       "      <th>5004</th>\n",
       "      <td>US-2021-168802</td>\n",
       "      <td>JO-15145</td>\n",
       "      <td>2021-11-03</td>\n",
       "      <td>2021-11-07</td>\n",
       "      <td>Standard Class</td>\n",
       "      <td>4</td>\n",
       "      <td>6</td>\n",
       "      <td>0.200000</td>\n",
       "      <td>6</td>\n",
       "      <td>4</td>\n",
       "      <td>18</td>\n",
       "      <td>0.333333</td>\n",
       "    </tr>\n",
       "    <tr>\n",
       "      <th>5005</th>\n",
       "      <td>US-2021-169320</td>\n",
       "      <td>LH-16900</td>\n",
       "      <td>2021-07-23</td>\n",
       "      <td>2021-07-25</td>\n",
       "      <td>Second Class</td>\n",
       "      <td>2</td>\n",
       "      <td>3</td>\n",
       "      <td>0.000000</td>\n",
       "      <td>16</td>\n",
       "      <td>7</td>\n",
       "      <td>172</td>\n",
       "      <td>0.093023</td>\n",
       "    </tr>\n",
       "    <tr>\n",
       "      <th>5006</th>\n",
       "      <td>US-2021-169488</td>\n",
       "      <td>AA-10375</td>\n",
       "      <td>2021-09-07</td>\n",
       "      <td>2021-09-09</td>\n",
       "      <td>First Class</td>\n",
       "      <td>2</td>\n",
       "      <td>1</td>\n",
       "      <td>0.000000</td>\n",
       "      <td>27</td>\n",
       "      <td>7</td>\n",
       "      <td>57</td>\n",
       "      <td>0.473684</td>\n",
       "    </tr>\n",
       "    <tr>\n",
       "      <th>5007</th>\n",
       "      <td>US-2021-169502</td>\n",
       "      <td>MG-17650</td>\n",
       "      <td>2021-08-28</td>\n",
       "      <td>2021-09-01</td>\n",
       "      <td>Standard Class</td>\n",
       "      <td>4</td>\n",
       "      <td>6</td>\n",
       "      <td>0.000000</td>\n",
       "      <td>33</td>\n",
       "      <td>8</td>\n",
       "      <td>114</td>\n",
       "      <td>0.289474</td>\n",
       "    </tr>\n",
       "    <tr>\n",
       "      <th>5008</th>\n",
       "      <td>US-2021-169551</td>\n",
       "      <td>RL-19615</td>\n",
       "      <td>2021-07-07</td>\n",
       "      <td>2021-07-09</td>\n",
       "      <td>First Class</td>\n",
       "      <td>2</td>\n",
       "      <td>1</td>\n",
       "      <td>0.283333</td>\n",
       "      <td>-62</td>\n",
       "      <td>16</td>\n",
       "      <td>1345</td>\n",
       "      <td>-0.046097</td>\n",
       "    </tr>\n",
       "  </tbody>\n",
       "</table>\n",
       "<p>5009 rows × 12 columns</p>\n",
       "</div>"
      ],
      "text/plain": [
       "            Order ID Customer ID Order Date  Ship Date       Ship Mode  \\\n",
       "0     CA-2018-100006    DK-13375 2018-09-07 2018-09-13  Standard Class   \n",
       "1     CA-2018-100090    EB-13705 2018-07-08 2018-07-12  Standard Class   \n",
       "2     CA-2018-100293    NF-18475 2018-03-14 2018-03-18  Standard Class   \n",
       "3     CA-2018-100328    JC-15340 2018-01-28 2018-02-03  Standard Class   \n",
       "4     CA-2018-100363    JM-15655 2018-04-08 2018-04-15  Standard Class   \n",
       "...              ...         ...        ...        ...             ...   \n",
       "5004  US-2021-168802    JO-15145 2021-11-03 2021-11-07  Standard Class   \n",
       "5005  US-2021-169320    LH-16900 2021-07-23 2021-07-25    Second Class   \n",
       "5006  US-2021-169488    AA-10375 2021-09-07 2021-09-09     First Class   \n",
       "5007  US-2021-169502    MG-17650 2021-08-28 2021-09-01  Standard Class   \n",
       "5008  US-2021-169551    RL-19615 2021-07-07 2021-07-09     First Class   \n",
       "\n",
       "      Days to Ship Actual  Days to Ship Scheduled  Discount  Profit  Quantity  \\\n",
       "0                       6                       6  0.000000     110         3   \n",
       "1                       4                       6  0.200000     -19         9   \n",
       "2                       4                       6  0.200000      32         6   \n",
       "3                       6                       6  0.200000       1         1   \n",
       "4                       7                       6  0.200000       8         5   \n",
       "...                   ...                     ...       ...     ...       ...   \n",
       "5004                    4                       6  0.200000       6         4   \n",
       "5005                    2                       3  0.000000      16         7   \n",
       "5006                    2                       1  0.000000      27         7   \n",
       "5007                    4                       6  0.000000      33         8   \n",
       "5008                    2                       1  0.283333     -62        16   \n",
       "\n",
       "      Sales  Profit Ratio  \n",
       "0       378      0.291005  \n",
       "1       699     -0.027182  \n",
       "2        91      0.351648  \n",
       "3         4      0.250000  \n",
       "4        21      0.380952  \n",
       "...     ...           ...  \n",
       "5004     18      0.333333  \n",
       "5005    172      0.093023  \n",
       "5006     57      0.473684  \n",
       "5007    114      0.289474  \n",
       "5008   1345     -0.046097  \n",
       "\n",
       "[5009 rows x 12 columns]"
      ]
     },
     "execution_count": 61,
     "metadata": {},
     "output_type": "execute_result"
    }
   ],
   "source": [
    "df_shipmode = pd.pivot_table(data=df,\n",
    "                             index=['Order ID', 'Customer ID', 'Order Date', 'Ship Date', 'Ship Mode'],\n",
    "                             values=['Sales', 'Quantity', 'Discount', 'Profit', 'Days to Ship Scheduled', 'Days to Ship Actual'],\n",
    "                             aggfunc={\n",
    "                                'Sales':sum,\n",
    "                                'Quantity':sum,\n",
    "                                'Discount':np.mean,\n",
    "                                'Profit':sum,\n",
    "                                'Days to Ship Scheduled':np.mean,\n",
    "                                'Days to Ship Actual':np.mean\n",
    "                             }\n",
    "                            ).reset_index()\n",
    "\n",
    "df_shipmode['Profit Ratio'] = df_shipmode['Profit'] / df_shipmode['Sales']\n",
    "df_shipmode"
   ]
  },
  {
   "cell_type": "code",
   "execution_count": 62,
   "metadata": {},
   "outputs": [
    {
     "data": {
      "text/plain": [
       "0         $378\n",
       "1         $699\n",
       "2          $91\n",
       "3           $4\n",
       "4          $21\n",
       "         ...  \n",
       "5004       $18\n",
       "5005      $172\n",
       "5006       $57\n",
       "5007      $114\n",
       "5008    $1,345\n",
       "Name: Sales, Length: 5009, dtype: object"
      ]
     },
     "execution_count": 62,
     "metadata": {},
     "output_type": "execute_result"
    }
   ],
   "source": [
    "df_shipmode['Sales']=df_shipmode['Sales'].apply(lambda x: \"${:,.0f}\".format(x))\n",
    "df_shipmode['Sales']"
   ]
  },
  {
   "cell_type": "code",
   "execution_count": 63,
   "metadata": {},
   "outputs": [
    {
     "data": {
      "text/plain": [
       "0        0%\n",
       "1       20%\n",
       "2       20%\n",
       "3       20%\n",
       "4       20%\n",
       "       ... \n",
       "5004    20%\n",
       "5005     0%\n",
       "5006     0%\n",
       "5007     0%\n",
       "5008    28%\n",
       "Name: Discount, Length: 5009, dtype: object"
      ]
     },
     "execution_count": 63,
     "metadata": {},
     "output_type": "execute_result"
    }
   ],
   "source": [
    "df_shipmode['Discount']=df_shipmode['Discount'].apply(lambda x: \"{:,.0f}%\".format(x*100) if x >= 0 else \"({:,.0f}%)\".format(-x*100))\n",
    "df_shipmode['Discount']"
   ]
  },
  {
   "cell_type": "code",
   "execution_count": 64,
   "metadata": {},
   "outputs": [
    {
     "data": {
      "text/plain": [
       "0        $110\n",
       "1       ($19)\n",
       "2         $32\n",
       "3          $1\n",
       "4          $8\n",
       "        ...  \n",
       "5004       $6\n",
       "5005      $16\n",
       "5006      $27\n",
       "5007      $33\n",
       "5008    ($62)\n",
       "Name: Profit, Length: 5009, dtype: object"
      ]
     },
     "execution_count": 64,
     "metadata": {},
     "output_type": "execute_result"
    }
   ],
   "source": [
    "df_shipmode['Profit']=df_shipmode['Profit'].apply(lambda x: \"${:,.0f}\".format(x) if x >= 0 else \"(${:,.0f})\".format(-x))\n",
    "df_shipmode['Profit']"
   ]
  },
  {
   "cell_type": "code",
   "execution_count": null,
   "metadata": {},
   "outputs": [],
   "source": []
  }
 ],
 "metadata": {
  "kernelspec": {
   "display_name": "base",
   "language": "python",
   "name": "python3"
  },
  "language_info": {
   "codemirror_mode": {
    "name": "ipython",
    "version": 3
   },
   "file_extension": ".py",
   "mimetype": "text/x-python",
   "name": "python",
   "nbconvert_exporter": "python",
   "pygments_lexer": "ipython3",
   "version": "3.9.12"
  },
  "orig_nbformat": 4
 },
 "nbformat": 4,
 "nbformat_minor": 2
}
