{
 "cells": [
  {
   "attachments": {},
   "cell_type": "markdown",
   "metadata": {},
   "source": [
    "# **Import Modules n Data**"
   ]
  },
  {
   "cell_type": "code",
   "execution_count": 1,
   "metadata": {},
   "outputs": [],
   "source": [
    "import pandas as pd\n",
    "import numpy as np\n",
    "import matplotlib.pyplot as plt\n",
    "import seaborn as sns"
   ]
  },
  {
   "cell_type": "code",
   "execution_count": 2,
   "metadata": {},
   "outputs": [],
   "source": [
    "filePath = 'data.csv'"
   ]
  },
  {
   "cell_type": "code",
   "execution_count": 3,
   "metadata": {},
   "outputs": [
    {
     "name": "stdout",
     "output_type": "stream",
     "text": [
      "<class 'pandas.core.frame.DataFrame'>\n",
      "RangeIndex: 4000 entries, 0 to 3999\n",
      "Data columns (total 9 columns):\n",
      " #   Column                  Non-Null Count  Dtype \n",
      "---  ------                  --------------  ----- \n",
      " 0   created_date            4000 non-null   object\n",
      " 1   task_id                 4000 non-null   int64 \n",
      " 2   customer_id             4000 non-null   int64 \n",
      " 3   client_segment          4000 non-null   object\n",
      " 4   type_task               4000 non-null   object\n",
      " 5   flag_delivered          4000 non-null   int64 \n",
      " 6   flag_inbound_call       4000 non-null   int64 \n",
      " 7   flag_calculating_offer  4000 non-null   int64 \n",
      " 8   calculating_channel     811 non-null    object\n",
      "dtypes: int64(5), object(4)\n",
      "memory usage: 281.4+ KB\n"
     ]
    }
   ],
   "source": [
    "df_raw = pd.read_csv(filePath)\n",
    "df_raw.info()"
   ]
  },
  {
   "cell_type": "code",
   "execution_count": 4,
   "metadata": {},
   "outputs": [
    {
     "data": {
      "text/html": [
       "<div>\n",
       "<style scoped>\n",
       "    .dataframe tbody tr th:only-of-type {\n",
       "        vertical-align: middle;\n",
       "    }\n",
       "\n",
       "    .dataframe tbody tr th {\n",
       "        vertical-align: top;\n",
       "    }\n",
       "\n",
       "    .dataframe thead th {\n",
       "        text-align: right;\n",
       "    }\n",
       "</style>\n",
       "<table border=\"1\" class=\"dataframe\">\n",
       "  <thead>\n",
       "    <tr style=\"text-align: right;\">\n",
       "      <th></th>\n",
       "      <th>created_date</th>\n",
       "      <th>task_id</th>\n",
       "      <th>customer_id</th>\n",
       "      <th>client_segment</th>\n",
       "      <th>type_task</th>\n",
       "      <th>flag_delivered</th>\n",
       "      <th>flag_inbound_call</th>\n",
       "      <th>flag_calculating_offer</th>\n",
       "      <th>calculating_channel</th>\n",
       "    </tr>\n",
       "  </thead>\n",
       "  <tbody>\n",
       "    <tr>\n",
       "      <th>0</th>\n",
       "      <td>3/1/2022</td>\n",
       "      <td>1</td>\n",
       "      <td>4001</td>\n",
       "      <td>TG</td>\n",
       "      <td>SMS</td>\n",
       "      <td>1</td>\n",
       "      <td>1</td>\n",
       "      <td>0</td>\n",
       "      <td>NaN</td>\n",
       "    </tr>\n",
       "    <tr>\n",
       "      <th>1</th>\n",
       "      <td>3/1/2022</td>\n",
       "      <td>2</td>\n",
       "      <td>4002</td>\n",
       "      <td>TG</td>\n",
       "      <td>SMS</td>\n",
       "      <td>1</td>\n",
       "      <td>1</td>\n",
       "      <td>0</td>\n",
       "      <td>NaN</td>\n",
       "    </tr>\n",
       "    <tr>\n",
       "      <th>2</th>\n",
       "      <td>3/1/2022</td>\n",
       "      <td>3</td>\n",
       "      <td>4003</td>\n",
       "      <td>TG</td>\n",
       "      <td>SMS</td>\n",
       "      <td>1</td>\n",
       "      <td>1</td>\n",
       "      <td>0</td>\n",
       "      <td>NaN</td>\n",
       "    </tr>\n",
       "    <tr>\n",
       "      <th>3</th>\n",
       "      <td>3/1/2022</td>\n",
       "      <td>4</td>\n",
       "      <td>4004</td>\n",
       "      <td>TG</td>\n",
       "      <td>SMS</td>\n",
       "      <td>1</td>\n",
       "      <td>1</td>\n",
       "      <td>0</td>\n",
       "      <td>NaN</td>\n",
       "    </tr>\n",
       "    <tr>\n",
       "      <th>4</th>\n",
       "      <td>3/1/2022</td>\n",
       "      <td>5</td>\n",
       "      <td>4005</td>\n",
       "      <td>TG</td>\n",
       "      <td>SMS</td>\n",
       "      <td>1</td>\n",
       "      <td>1</td>\n",
       "      <td>0</td>\n",
       "      <td>NaN</td>\n",
       "    </tr>\n",
       "  </tbody>\n",
       "</table>\n",
       "</div>"
      ],
      "text/plain": [
       "  created_date  task_id  customer_id client_segment type_task  flag_delivered  \\\n",
       "0     3/1/2022        1         4001             TG       SMS               1   \n",
       "1     3/1/2022        2         4002             TG       SMS               1   \n",
       "2     3/1/2022        3         4003             TG       SMS               1   \n",
       "3     3/1/2022        4         4004             TG       SMS               1   \n",
       "4     3/1/2022        5         4005             TG       SMS               1   \n",
       "\n",
       "   flag_inbound_call  flag_calculating_offer calculating_channel  \n",
       "0                  1                       0                 NaN  \n",
       "1                  1                       0                 NaN  \n",
       "2                  1                       0                 NaN  \n",
       "3                  1                       0                 NaN  \n",
       "4                  1                       0                 NaN  "
      ]
     },
     "execution_count": 4,
     "metadata": {},
     "output_type": "execute_result"
    }
   ],
   "source": [
    "df_raw.head()"
   ]
  },
  {
   "cell_type": "code",
   "execution_count": 5,
   "metadata": {},
   "outputs": [
    {
     "data": {
      "text/plain": [
       "created_date                 0\n",
       "task_id                      0\n",
       "customer_id                  0\n",
       "client_segment               0\n",
       "type_task                    0\n",
       "flag_delivered               0\n",
       "flag_inbound_call            0\n",
       "flag_calculating_offer       0\n",
       "calculating_channel       3189\n",
       "dtype: int64"
      ]
     },
     "execution_count": 5,
     "metadata": {},
     "output_type": "execute_result"
    }
   ],
   "source": [
    "# check missing value \n",
    "df_raw.isnull().sum()"
   ]
  },
  {
   "cell_type": "code",
   "execution_count": 9,
   "metadata": {},
   "outputs": [
    {
     "data": {
      "text/html": [
       "<div>\n",
       "<style scoped>\n",
       "    .dataframe tbody tr th:only-of-type {\n",
       "        vertical-align: middle;\n",
       "    }\n",
       "\n",
       "    .dataframe tbody tr th {\n",
       "        vertical-align: top;\n",
       "    }\n",
       "\n",
       "    .dataframe thead th {\n",
       "        text-align: right;\n",
       "    }\n",
       "</style>\n",
       "<table border=\"1\" class=\"dataframe\">\n",
       "  <thead>\n",
       "    <tr style=\"text-align: right;\">\n",
       "      <th></th>\n",
       "      <th>created_date</th>\n",
       "      <th>task_id</th>\n",
       "      <th>customer_id</th>\n",
       "      <th>client_segment</th>\n",
       "      <th>type_task</th>\n",
       "      <th>flag_delivered</th>\n",
       "      <th>flag_inbound_call</th>\n",
       "      <th>flag_calculating_offer</th>\n",
       "      <th>calculating_channel</th>\n",
       "    </tr>\n",
       "  </thead>\n",
       "  <tbody>\n",
       "    <tr>\n",
       "      <th>199</th>\n",
       "      <td>3/1/2022</td>\n",
       "      <td>200</td>\n",
       "      <td>4200</td>\n",
       "      <td>TG</td>\n",
       "      <td>SMS</td>\n",
       "      <td>1</td>\n",
       "      <td>1</td>\n",
       "      <td>1</td>\n",
       "      <td>TLS</td>\n",
       "    </tr>\n",
       "    <tr>\n",
       "      <th>200</th>\n",
       "      <td>3/1/2022</td>\n",
       "      <td>201</td>\n",
       "      <td>4201</td>\n",
       "      <td>TG</td>\n",
       "      <td>SMS</td>\n",
       "      <td>1</td>\n",
       "      <td>1</td>\n",
       "      <td>1</td>\n",
       "      <td>TLS</td>\n",
       "    </tr>\n",
       "    <tr>\n",
       "      <th>201</th>\n",
       "      <td>3/1/2022</td>\n",
       "      <td>202</td>\n",
       "      <td>4202</td>\n",
       "      <td>TG</td>\n",
       "      <td>SMS</td>\n",
       "      <td>1</td>\n",
       "      <td>1</td>\n",
       "      <td>1</td>\n",
       "      <td>TLS</td>\n",
       "    </tr>\n",
       "    <tr>\n",
       "      <th>202</th>\n",
       "      <td>3/1/2022</td>\n",
       "      <td>203</td>\n",
       "      <td>4203</td>\n",
       "      <td>TG</td>\n",
       "      <td>SMS</td>\n",
       "      <td>1</td>\n",
       "      <td>1</td>\n",
       "      <td>1</td>\n",
       "      <td>TLS</td>\n",
       "    </tr>\n",
       "    <tr>\n",
       "      <th>204</th>\n",
       "      <td>3/1/2022</td>\n",
       "      <td>205</td>\n",
       "      <td>4205</td>\n",
       "      <td>TG</td>\n",
       "      <td>SMS</td>\n",
       "      <td>1</td>\n",
       "      <td>1</td>\n",
       "      <td>1</td>\n",
       "      <td>TLS</td>\n",
       "    </tr>\n",
       "    <tr>\n",
       "      <th>...</th>\n",
       "      <td>...</td>\n",
       "      <td>...</td>\n",
       "      <td>...</td>\n",
       "      <td>...</td>\n",
       "      <td>...</td>\n",
       "      <td>...</td>\n",
       "      <td>...</td>\n",
       "      <td>...</td>\n",
       "      <td>...</td>\n",
       "    </tr>\n",
       "    <tr>\n",
       "      <th>3995</th>\n",
       "      <td>3/1/2022</td>\n",
       "      <td>3996</td>\n",
       "      <td>7996</td>\n",
       "      <td>CT</td>\n",
       "      <td>PUSH_APP</td>\n",
       "      <td>1</td>\n",
       "      <td>0</td>\n",
       "      <td>1</td>\n",
       "      <td>APP</td>\n",
       "    </tr>\n",
       "    <tr>\n",
       "      <th>3996</th>\n",
       "      <td>3/1/2022</td>\n",
       "      <td>3997</td>\n",
       "      <td>7997</td>\n",
       "      <td>CT</td>\n",
       "      <td>PUSH_APP</td>\n",
       "      <td>1</td>\n",
       "      <td>0</td>\n",
       "      <td>1</td>\n",
       "      <td>APP</td>\n",
       "    </tr>\n",
       "    <tr>\n",
       "      <th>3997</th>\n",
       "      <td>3/1/2022</td>\n",
       "      <td>3998</td>\n",
       "      <td>7998</td>\n",
       "      <td>CT</td>\n",
       "      <td>PUSH_APP</td>\n",
       "      <td>1</td>\n",
       "      <td>0</td>\n",
       "      <td>1</td>\n",
       "      <td>APP</td>\n",
       "    </tr>\n",
       "    <tr>\n",
       "      <th>3998</th>\n",
       "      <td>3/1/2022</td>\n",
       "      <td>3999</td>\n",
       "      <td>7999</td>\n",
       "      <td>CT</td>\n",
       "      <td>PUSH_APP</td>\n",
       "      <td>1</td>\n",
       "      <td>0</td>\n",
       "      <td>1</td>\n",
       "      <td>APP</td>\n",
       "    </tr>\n",
       "    <tr>\n",
       "      <th>3999</th>\n",
       "      <td>3/1/2022</td>\n",
       "      <td>4000</td>\n",
       "      <td>8000</td>\n",
       "      <td>CT</td>\n",
       "      <td>PUSH_APP</td>\n",
       "      <td>1</td>\n",
       "      <td>0</td>\n",
       "      <td>1</td>\n",
       "      <td>APP</td>\n",
       "    </tr>\n",
       "  </tbody>\n",
       "</table>\n",
       "<p>811 rows × 9 columns</p>\n",
       "</div>"
      ],
      "text/plain": [
       "     created_date  task_id  customer_id client_segment type_task  \\\n",
       "199      3/1/2022      200         4200             TG       SMS   \n",
       "200      3/1/2022      201         4201             TG       SMS   \n",
       "201      3/1/2022      202         4202             TG       SMS   \n",
       "202      3/1/2022      203         4203             TG       SMS   \n",
       "204      3/1/2022      205         4205             TG       SMS   \n",
       "...           ...      ...          ...            ...       ...   \n",
       "3995     3/1/2022     3996         7996             CT  PUSH_APP   \n",
       "3996     3/1/2022     3997         7997             CT  PUSH_APP   \n",
       "3997     3/1/2022     3998         7998             CT  PUSH_APP   \n",
       "3998     3/1/2022     3999         7999             CT  PUSH_APP   \n",
       "3999     3/1/2022     4000         8000             CT  PUSH_APP   \n",
       "\n",
       "      flag_delivered  flag_inbound_call  flag_calculating_offer  \\\n",
       "199                1                  1                       1   \n",
       "200                1                  1                       1   \n",
       "201                1                  1                       1   \n",
       "202                1                  1                       1   \n",
       "204                1                  1                       1   \n",
       "...              ...                ...                     ...   \n",
       "3995               1                  0                       1   \n",
       "3996               1                  0                       1   \n",
       "3997               1                  0                       1   \n",
       "3998               1                  0                       1   \n",
       "3999               1                  0                       1   \n",
       "\n",
       "     calculating_channel  \n",
       "199                  TLS  \n",
       "200                  TLS  \n",
       "201                  TLS  \n",
       "202                  TLS  \n",
       "204                  TLS  \n",
       "...                  ...  \n",
       "3995                 APP  \n",
       "3996                 APP  \n",
       "3997                 APP  \n",
       "3998                 APP  \n",
       "3999                 APP  \n",
       "\n",
       "[811 rows x 9 columns]"
      ]
     },
     "execution_count": 9,
     "metadata": {},
     "output_type": "execute_result"
    }
   ],
   "source": [
    "df_raw[~df_raw['calculating_channel'].isnull()]"
   ]
  },
  {
   "cell_type": "code",
   "execution_count": 10,
   "metadata": {},
   "outputs": [
    {
     "data": {
      "text/plain": [
       "0"
      ]
     },
     "execution_count": 10,
     "metadata": {},
     "output_type": "execute_result"
    }
   ],
   "source": [
    "# fill missing value with Unknown\n",
    "df_raw['calculating_channel'].fillna('Unknown', inplace=True)\n",
    "df_raw['calculating_channel'].isnull().sum()"
   ]
  },
  {
   "attachments": {},
   "cell_type": "markdown",
   "metadata": {},
   "source": [
    "# **Analysis**"
   ]
  },
  {
   "cell_type": "code",
   "execution_count": 15,
   "metadata": {},
   "outputs": [],
   "source": [
    "df = df_raw.copy()"
   ]
  },
  {
   "cell_type": "code",
   "execution_count": 16,
   "metadata": {},
   "outputs": [
    {
     "data": {
      "text/plain": [
       "array(['3/1/2022'], dtype=object)"
      ]
     },
     "execution_count": 16,
     "metadata": {},
     "output_type": "execute_result"
    }
   ],
   "source": [
    "df['created_date'].unique()\n",
    "\n",
    "# Bộ dữ liệu đang theo dõi chiến dịch của 1 ngày duy nhất 3/1/2022"
   ]
  },
  {
   "cell_type": "code",
   "execution_count": 17,
   "metadata": {},
   "outputs": [
    {
     "data": {
      "text/html": [
       "<div>\n",
       "<style scoped>\n",
       "    .dataframe tbody tr th:only-of-type {\n",
       "        vertical-align: middle;\n",
       "    }\n",
       "\n",
       "    .dataframe tbody tr th {\n",
       "        vertical-align: top;\n",
       "    }\n",
       "\n",
       "    .dataframe thead th {\n",
       "        text-align: right;\n",
       "    }\n",
       "</style>\n",
       "<table border=\"1\" class=\"dataframe\">\n",
       "  <thead>\n",
       "    <tr style=\"text-align: right;\">\n",
       "      <th></th>\n",
       "      <th>created_date</th>\n",
       "      <th>task_id</th>\n",
       "      <th>customer_id</th>\n",
       "      <th>client_segment</th>\n",
       "      <th>type_task</th>\n",
       "      <th>flag_delivered</th>\n",
       "      <th>flag_inbound_call</th>\n",
       "      <th>flag_calculating_offer</th>\n",
       "      <th>calculating_channel</th>\n",
       "    </tr>\n",
       "  </thead>\n",
       "  <tbody>\n",
       "    <tr>\n",
       "      <th>count</th>\n",
       "      <td>4000</td>\n",
       "      <td>4000.000000</td>\n",
       "      <td>4000.000000</td>\n",
       "      <td>4000</td>\n",
       "      <td>4000</td>\n",
       "      <td>4000.000000</td>\n",
       "      <td>4000.00000</td>\n",
       "      <td>4000.000000</td>\n",
       "      <td>4000</td>\n",
       "    </tr>\n",
       "    <tr>\n",
       "      <th>unique</th>\n",
       "      <td>1</td>\n",
       "      <td>NaN</td>\n",
       "      <td>NaN</td>\n",
       "      <td>2</td>\n",
       "      <td>2</td>\n",
       "      <td>NaN</td>\n",
       "      <td>NaN</td>\n",
       "      <td>NaN</td>\n",
       "      <td>3</td>\n",
       "    </tr>\n",
       "    <tr>\n",
       "      <th>top</th>\n",
       "      <td>3/1/2022</td>\n",
       "      <td>NaN</td>\n",
       "      <td>NaN</td>\n",
       "      <td>CT</td>\n",
       "      <td>PUSH_APP</td>\n",
       "      <td>NaN</td>\n",
       "      <td>NaN</td>\n",
       "      <td>NaN</td>\n",
       "      <td>Unknown</td>\n",
       "    </tr>\n",
       "    <tr>\n",
       "      <th>freq</th>\n",
       "      <td>4000</td>\n",
       "      <td>NaN</td>\n",
       "      <td>NaN</td>\n",
       "      <td>3000</td>\n",
       "      <td>3000</td>\n",
       "      <td>NaN</td>\n",
       "      <td>NaN</td>\n",
       "      <td>NaN</td>\n",
       "      <td>3189</td>\n",
       "    </tr>\n",
       "    <tr>\n",
       "      <th>mean</th>\n",
       "      <td>NaN</td>\n",
       "      <td>2000.500000</td>\n",
       "      <td>6000.500000</td>\n",
       "      <td>NaN</td>\n",
       "      <td>NaN</td>\n",
       "      <td>0.986750</td>\n",
       "      <td>0.08700</td>\n",
       "      <td>0.218000</td>\n",
       "      <td>NaN</td>\n",
       "    </tr>\n",
       "    <tr>\n",
       "      <th>std</th>\n",
       "      <td>NaN</td>\n",
       "      <td>1154.844867</td>\n",
       "      <td>1154.844867</td>\n",
       "      <td>NaN</td>\n",
       "      <td>NaN</td>\n",
       "      <td>0.114358</td>\n",
       "      <td>0.28187</td>\n",
       "      <td>0.412939</td>\n",
       "      <td>NaN</td>\n",
       "    </tr>\n",
       "    <tr>\n",
       "      <th>min</th>\n",
       "      <td>NaN</td>\n",
       "      <td>1.000000</td>\n",
       "      <td>4001.000000</td>\n",
       "      <td>NaN</td>\n",
       "      <td>NaN</td>\n",
       "      <td>0.000000</td>\n",
       "      <td>0.00000</td>\n",
       "      <td>0.000000</td>\n",
       "      <td>NaN</td>\n",
       "    </tr>\n",
       "    <tr>\n",
       "      <th>25%</th>\n",
       "      <td>NaN</td>\n",
       "      <td>1000.750000</td>\n",
       "      <td>5000.750000</td>\n",
       "      <td>NaN</td>\n",
       "      <td>NaN</td>\n",
       "      <td>1.000000</td>\n",
       "      <td>0.00000</td>\n",
       "      <td>0.000000</td>\n",
       "      <td>NaN</td>\n",
       "    </tr>\n",
       "    <tr>\n",
       "      <th>50%</th>\n",
       "      <td>NaN</td>\n",
       "      <td>2000.500000</td>\n",
       "      <td>6000.500000</td>\n",
       "      <td>NaN</td>\n",
       "      <td>NaN</td>\n",
       "      <td>1.000000</td>\n",
       "      <td>0.00000</td>\n",
       "      <td>0.000000</td>\n",
       "      <td>NaN</td>\n",
       "    </tr>\n",
       "    <tr>\n",
       "      <th>75%</th>\n",
       "      <td>NaN</td>\n",
       "      <td>3000.250000</td>\n",
       "      <td>7000.250000</td>\n",
       "      <td>NaN</td>\n",
       "      <td>NaN</td>\n",
       "      <td>1.000000</td>\n",
       "      <td>0.00000</td>\n",
       "      <td>0.000000</td>\n",
       "      <td>NaN</td>\n",
       "    </tr>\n",
       "    <tr>\n",
       "      <th>max</th>\n",
       "      <td>NaN</td>\n",
       "      <td>4000.000000</td>\n",
       "      <td>8000.000000</td>\n",
       "      <td>NaN</td>\n",
       "      <td>NaN</td>\n",
       "      <td>1.000000</td>\n",
       "      <td>1.00000</td>\n",
       "      <td>1.000000</td>\n",
       "      <td>NaN</td>\n",
       "    </tr>\n",
       "  </tbody>\n",
       "</table>\n",
       "</div>"
      ],
      "text/plain": [
       "       created_date      task_id  customer_id client_segment type_task  \\\n",
       "count          4000  4000.000000  4000.000000           4000      4000   \n",
       "unique            1          NaN          NaN              2         2   \n",
       "top        3/1/2022          NaN          NaN             CT  PUSH_APP   \n",
       "freq           4000          NaN          NaN           3000      3000   \n",
       "mean            NaN  2000.500000  6000.500000            NaN       NaN   \n",
       "std             NaN  1154.844867  1154.844867            NaN       NaN   \n",
       "min             NaN     1.000000  4001.000000            NaN       NaN   \n",
       "25%             NaN  1000.750000  5000.750000            NaN       NaN   \n",
       "50%             NaN  2000.500000  6000.500000            NaN       NaN   \n",
       "75%             NaN  3000.250000  7000.250000            NaN       NaN   \n",
       "max             NaN  4000.000000  8000.000000            NaN       NaN   \n",
       "\n",
       "        flag_delivered  flag_inbound_call  flag_calculating_offer  \\\n",
       "count      4000.000000         4000.00000             4000.000000   \n",
       "unique             NaN                NaN                     NaN   \n",
       "top                NaN                NaN                     NaN   \n",
       "freq               NaN                NaN                     NaN   \n",
       "mean          0.986750            0.08700                0.218000   \n",
       "std           0.114358            0.28187                0.412939   \n",
       "min           0.000000            0.00000                0.000000   \n",
       "25%           1.000000            0.00000                0.000000   \n",
       "50%           1.000000            0.00000                0.000000   \n",
       "75%           1.000000            0.00000                0.000000   \n",
       "max           1.000000            1.00000                1.000000   \n",
       "\n",
       "       calculating_channel  \n",
       "count                 4000  \n",
       "unique                   3  \n",
       "top                Unknown  \n",
       "freq                  3189  \n",
       "mean                   NaN  \n",
       "std                    NaN  \n",
       "min                    NaN  \n",
       "25%                    NaN  \n",
       "50%                    NaN  \n",
       "75%                    NaN  \n",
       "max                    NaN  "
      ]
     },
     "execution_count": 17,
     "metadata": {},
     "output_type": "execute_result"
    }
   ],
   "source": [
    "df.describe(include='all')\n",
    "\n",
    "# Bộ dữ liệu có 4000 dòng dữ liệu tương ứng 4000 task, theo dõi 1 ngày duy nhất 3/1/2022"
   ]
  },
  {
   "cell_type": "code",
   "execution_count": 22,
   "metadata": {},
   "outputs": [
    {
     "name": "stdout",
     "output_type": "stream",
     "text": [
      "Number of client calculated offer:  872\n"
     ]
    }
   ],
   "source": [
    "# Number of client calculated offer\n",
    "client_offer = df[df['flag_calculating_offer'] == 1]['flag_calculating_offer'].count()\n",
    "print('Number of client calculated offer: ', client_offer)"
   ]
  },
  {
   "cell_type": "code",
   "execution_count": 23,
   "metadata": {},
   "outputs": [
    {
     "name": "stdout",
     "output_type": "stream",
     "text": [
      "Number of inbounds call:  348\n"
     ]
    }
   ],
   "source": [
    "# Number of inbounds call\n",
    "inbound_call = df[df['flag_inbound_call'] == 1]['flag_inbound_call'].count()\n",
    "print('Number of inbounds call: ', inbound_call)"
   ]
  },
  {
   "cell_type": "code",
   "execution_count": 25,
   "metadata": {},
   "outputs": [
    {
     "data": {
      "text/html": [
       "<div>\n",
       "<style scoped>\n",
       "    .dataframe tbody tr th:only-of-type {\n",
       "        vertical-align: middle;\n",
       "    }\n",
       "\n",
       "    .dataframe tbody tr th {\n",
       "        vertical-align: top;\n",
       "    }\n",
       "\n",
       "    .dataframe thead th {\n",
       "        text-align: right;\n",
       "    }\n",
       "</style>\n",
       "<table border=\"1\" class=\"dataframe\">\n",
       "  <thead>\n",
       "    <tr style=\"text-align: right;\">\n",
       "      <th></th>\n",
       "      <th>calculating_channel</th>\n",
       "      <th>flag_calculating_offer</th>\n",
       "    </tr>\n",
       "  </thead>\n",
       "  <tbody>\n",
       "    <tr>\n",
       "      <th>0</th>\n",
       "      <td>APP</td>\n",
       "      <td>750</td>\n",
       "    </tr>\n",
       "    <tr>\n",
       "      <th>1</th>\n",
       "      <td>TLS</td>\n",
       "      <td>61</td>\n",
       "    </tr>\n",
       "    <tr>\n",
       "      <th>2</th>\n",
       "      <td>Unknown</td>\n",
       "      <td>61</td>\n",
       "    </tr>\n",
       "  </tbody>\n",
       "</table>\n",
       "</div>"
      ],
      "text/plain": [
       "  calculating_channel  flag_calculating_offer\n",
       "0                 APP                     750\n",
       "1                 TLS                      61\n",
       "2             Unknown                      61"
      ]
     },
     "execution_count": 25,
     "metadata": {},
     "output_type": "execute_result"
    }
   ],
   "source": [
    "# Number of offer done by Channel\n",
    "offer_channel = df[df['flag_calculating_offer']==1].groupby('calculating_channel')['flag_calculating_offer'].count().reset_index()\n",
    "offer_channel"
   ]
  },
  {
   "cell_type": "code",
   "execution_count": 40,
   "metadata": {},
   "outputs": [
    {
     "name": "stdout",
     "output_type": "stream",
     "text": [
      "Conversion rate for all channel: 21.80%\n"
     ]
    }
   ],
   "source": [
    "# Conversion rate for all channel\n",
    "conversion_rate = client_offer / df['task_id'].count()\n",
    "print('Conversion rate for all channel: {:,.2f}%'.format(conversion_rate*100))"
   ]
  },
  {
   "cell_type": "code",
   "execution_count": 34,
   "metadata": {},
   "outputs": [
    {
     "data": {
      "text/html": [
       "<div>\n",
       "<style scoped>\n",
       "    .dataframe tbody tr th:only-of-type {\n",
       "        vertical-align: middle;\n",
       "    }\n",
       "\n",
       "    .dataframe tbody tr th {\n",
       "        vertical-align: top;\n",
       "    }\n",
       "\n",
       "    .dataframe thead th {\n",
       "        text-align: right;\n",
       "    }\n",
       "</style>\n",
       "<table border=\"1\" class=\"dataframe\">\n",
       "  <thead>\n",
       "    <tr style=\"text-align: right;\">\n",
       "      <th></th>\n",
       "      <th>calculating_channel</th>\n",
       "      <th>flag_calculating_offer</th>\n",
       "      <th>task_id</th>\n",
       "      <th>conversion_rate</th>\n",
       "    </tr>\n",
       "  </thead>\n",
       "  <tbody>\n",
       "    <tr>\n",
       "      <th>0</th>\n",
       "      <td>APP</td>\n",
       "      <td>750</td>\n",
       "      <td>750</td>\n",
       "      <td>1.000000</td>\n",
       "    </tr>\n",
       "    <tr>\n",
       "      <th>1</th>\n",
       "      <td>TLS</td>\n",
       "      <td>61</td>\n",
       "      <td>61</td>\n",
       "      <td>1.000000</td>\n",
       "    </tr>\n",
       "    <tr>\n",
       "      <th>2</th>\n",
       "      <td>Unknown</td>\n",
       "      <td>61</td>\n",
       "      <td>3189</td>\n",
       "      <td>0.019128</td>\n",
       "    </tr>\n",
       "  </tbody>\n",
       "</table>\n",
       "</div>"
      ],
      "text/plain": [
       "  calculating_channel  flag_calculating_offer  task_id  conversion_rate\n",
       "0                 APP                     750      750         1.000000\n",
       "1                 TLS                      61       61         1.000000\n",
       "2             Unknown                      61     3189         0.019128"
      ]
     },
     "execution_count": 34,
     "metadata": {},
     "output_type": "execute_result"
    }
   ],
   "source": [
    "# Conversion rate by channel\n",
    "conversion_rate_channel = pd.pivot_table(data = df, \n",
    "                                        index='calculating_channel', \n",
    "                                        values=['flag_calculating_offer', 'task_id'], \n",
    "                                        aggfunc={'flag_calculating_offer': np.sum, \n",
    "                                                'task_id': len}).reset_index()\n",
    "conversion_rate_channel['conversion_rate'] = conversion_rate_channel['flag_calculating_offer'] / conversion_rate_channel['task_id']\n",
    "conversion_rate_channel"
   ]
  },
  {
   "attachments": {},
   "cell_type": "markdown",
   "metadata": {},
   "source": [
    "# **Visualize**"
   ]
  },
  {
   "cell_type": "code",
   "execution_count": 41,
   "metadata": {},
   "outputs": [
    {
     "data": {
      "text/html": [
       "<div>\n",
       "<style scoped>\n",
       "    .dataframe tbody tr th:only-of-type {\n",
       "        vertical-align: middle;\n",
       "    }\n",
       "\n",
       "    .dataframe tbody tr th {\n",
       "        vertical-align: top;\n",
       "    }\n",
       "\n",
       "    .dataframe thead th {\n",
       "        text-align: right;\n",
       "    }\n",
       "</style>\n",
       "<table border=\"1\" class=\"dataframe\">\n",
       "  <thead>\n",
       "    <tr style=\"text-align: right;\">\n",
       "      <th></th>\n",
       "      <th>calculating_channel</th>\n",
       "      <th>flag_calculating_offer</th>\n",
       "      <th>flag_inbound_call</th>\n",
       "      <th>task_id</th>\n",
       "    </tr>\n",
       "  </thead>\n",
       "  <tbody>\n",
       "    <tr>\n",
       "      <th>0</th>\n",
       "      <td>APP</td>\n",
       "      <td>750</td>\n",
       "      <td>20</td>\n",
       "      <td>750</td>\n",
       "    </tr>\n",
       "    <tr>\n",
       "      <th>1</th>\n",
       "      <td>TLS</td>\n",
       "      <td>61</td>\n",
       "      <td>61</td>\n",
       "      <td>61</td>\n",
       "    </tr>\n",
       "    <tr>\n",
       "      <th>2</th>\n",
       "      <td>Unknown</td>\n",
       "      <td>61</td>\n",
       "      <td>267</td>\n",
       "      <td>3189</td>\n",
       "    </tr>\n",
       "  </tbody>\n",
       "</table>\n",
       "</div>"
      ],
      "text/plain": [
       "  calculating_channel  flag_calculating_offer  flag_inbound_call  task_id\n",
       "0                 APP                     750                 20      750\n",
       "1                 TLS                      61                 61       61\n",
       "2             Unknown                      61                267     3189"
      ]
     },
     "execution_count": 41,
     "metadata": {},
     "output_type": "execute_result"
    }
   ],
   "source": [
    "df_fact = pd.pivot_table(data = df,\n",
    "                        index='calculating_channel',\n",
    "                        values=['flag_calculating_offer', 'flag_inbound_call', 'task_id'],\n",
    "                        aggfunc={'flag_calculating_offer': np.sum,\n",
    "                                'flag_inbound_call': np.sum,\n",
    "                                'task_id': len}).reset_index()\n",
    "df_fact"
   ]
  },
  {
   "cell_type": "code",
   "execution_count": 43,
   "metadata": {},
   "outputs": [
    {
     "data": {
      "image/png": "[encoded data removed]",
      "text/plain": [
       "<Figure size 720x432 with 1 Axes>"
      ]
     },
     "metadata": {
      "needs_background": "light"
     },
     "output_type": "display_data"
    }
   ],
   "source": [
    "# stacked bar chart for conversion rate by channel\n",
    "plt.figure(figsize=(10, 6))\n",
    "plt.bar(df_fact['calculating_channel'], df_fact['flag_calculating_offer'], label='Offer')\n",
    "plt.bar(df_fact['calculating_channel'], df_fact['flag_inbound_call'], bottom=df_fact['flag_calculating_offer'], label='Inbound call')\n",
    "plt.legend()\n",
    "plt.title('Conversion rate by channel')\n",
    "plt.show()"
   ]
  },
  {
   "cell_type": "code",
   "execution_count": 42,
   "metadata": {},
   "outputs": [
    {
     "data": {
      "image/png": "[encoded data removed]",
      "text/plain": [
       "<Figure size 720x720 with 1 Axes>"
      ]
     },
     "metadata": {},
     "output_type": "display_data"
    }
   ],
   "source": [
    "# piechart distribution of task by chanel\n",
    "plt.figure(figsize=(10, 10))\n",
    "\n",
    "plt.pie(df_fact['task_id'],\n",
    "        labels=df_fact['calculating_channel'],\n",
    "        autopct='%1.1f%%',\n",
    "        shadow=True,\n",
    "        startangle=90)\n",
    "plt.axis('equal')\n",
    "plt.title('Distribution of task_id')\n",
    "plt.show()"
   ]
  },
  {
   "cell_type": "code",
   "execution_count": null,
   "metadata": {},
   "outputs": [],
   "source": []
  }
 ],
 "metadata": {
  "kernelspec": {
   "display_name": "base",
   "language": "python",
   "name": "python3"
  },
  "language_info": {
   "codemirror_mode": {
    "name": "ipython",
    "version": 3
   },
   "file_extension": ".py",
   "mimetype": "text/x-python",
   "name": "python",
   "nbconvert_exporter": "python",
   "pygments_lexer": "ipython3",
   "version": "3.9.12"
  },
  "orig_nbformat": 4
 },
 "nbformat": 4,
 "nbformat_minor": 2
}
